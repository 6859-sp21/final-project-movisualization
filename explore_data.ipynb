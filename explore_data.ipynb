{
 "metadata": {
  "language_info": {
   "codemirror_mode": {
    "name": "ipython",
    "version": 3
   },
   "file_extension": ".py",
   "mimetype": "text/x-python",
   "name": "python",
   "nbconvert_exporter": "python",
   "pygments_lexer": "ipython3",
   "version": "2.7.16"
  },
  "orig_nbformat": 2,
  "kernelspec": {
   "name": "python3",
   "display_name": "Python 2.7.16 64-bit",
   "metadata": {
    "interpreter": {
     "hash": "545e036c4b32438aced1f6b3c8d38ca151d9c36189e05839cb0aa568fda70ddd"
    }
   }
  }
 },
 "nbformat": 4,
 "nbformat_minor": 2,
 "cells": [
  {
   "cell_type": "code",
   "execution_count": 4,
   "metadata": {},
   "outputs": [],
   "source": [
    "import pandas as pd\n",
    "import numpy as np\n",
    "import re"
   ]
  },
  {
   "source": [
    "### Movies metadata"
   ],
   "cell_type": "markdown",
   "metadata": {}
  },
  {
   "cell_type": "code",
   "execution_count": 5,
   "metadata": {},
   "outputs": [],
   "source": [
    "movies_path = 'dialogue_data/movie_titles_metadata.tsv'\n",
    "movies_df = pd.read_csv(movies_path, sep='\\t', header=None)\n",
    "movies_df.rename(columns={0:'ID', 1:'Title', 2:'Year', 3:'IMDB Rating', 4:'Votes', 5:'Genres'}, inplace=True)"
   ]
  },
  {
   "cell_type": "code",
   "execution_count": 6,
   "metadata": {},
   "outputs": [
    {
     "output_type": "execute_result",
     "data": {
      "text/html": "<div>\n<style scoped>\n    .dataframe tbody tr th:only-of-type {\n        vertical-align: middle;\n    }\n\n    .dataframe tbody tr th {\n        vertical-align: top;\n    }\n\n    .dataframe thead th {\n        text-align: right;\n    }\n</style>\n<table border=\"1\" class=\"dataframe\">\n  <thead>\n    <tr style=\"text-align: right;\">\n      <th></th>\n      <th>ID</th>\n      <th>Title</th>\n      <th>Year</th>\n      <th>IMDB Rating</th>\n      <th>Votes</th>\n      <th>Genres</th>\n    </tr>\n  </thead>\n  <tbody>\n    <tr>\n      <th>0</th>\n      <td>m0</td>\n      <td>10 things i hate about you</td>\n      <td>1999</td>\n      <td>6.9</td>\n      <td>62847.0</td>\n      <td>['comedy' 'romance']</td>\n    </tr>\n    <tr>\n      <th>1</th>\n      <td>m1</td>\n      <td>1492: conquest of paradise</td>\n      <td>1992</td>\n      <td>6.2</td>\n      <td>10421.0</td>\n      <td>['adventure' 'biography' 'drama' 'history']</td>\n    </tr>\n    <tr>\n      <th>2</th>\n      <td>m2</td>\n      <td>15 minutes</td>\n      <td>2001</td>\n      <td>6.1</td>\n      <td>25854.0</td>\n      <td>['action' 'crime' 'drama' 'thriller']</td>\n    </tr>\n    <tr>\n      <th>3</th>\n      <td>m3</td>\n      <td>2001: a space odyssey</td>\n      <td>1968</td>\n      <td>8.4</td>\n      <td>163227.0</td>\n      <td>['adventure' 'mystery' 'sci-fi']</td>\n    </tr>\n    <tr>\n      <th>4</th>\n      <td>m4</td>\n      <td>48 hrs.</td>\n      <td>1982</td>\n      <td>6.9</td>\n      <td>22289.0</td>\n      <td>['action' 'comedy' 'crime' 'drama' 'thriller']</td>\n    </tr>\n    <tr>\n      <th>5</th>\n      <td>m5</td>\n      <td>the fifth element</td>\n      <td>1997</td>\n      <td>7.5</td>\n      <td>133756.0</td>\n      <td>['action' 'adventure' 'romance' 'sci-fi' 'thri...</td>\n    </tr>\n    <tr>\n      <th>6</th>\n      <td>m6</td>\n      <td>8mm</td>\n      <td>1999</td>\n      <td>6.3</td>\n      <td>48212.0</td>\n      <td>['crime' 'mystery' 'thriller']</td>\n    </tr>\n    <tr>\n      <th>7</th>\n      <td>m7</td>\n      <td>a nightmare on elm street 4: the dream master</td>\n      <td>1988</td>\n      <td>5.2</td>\n      <td>13590.0</td>\n      <td>['fantasy' 'horror' 'thriller']</td>\n    </tr>\n    <tr>\n      <th>8</th>\n      <td>m8</td>\n      <td>a nightmare on elm street: the dream child</td>\n      <td>1989</td>\n      <td>4.7</td>\n      <td>11092.0</td>\n      <td>['fantasy' 'horror' 'thriller']</td>\n    </tr>\n    <tr>\n      <th>9</th>\n      <td>m9</td>\n      <td>the atomic submarine</td>\n      <td>1959</td>\n      <td>4.9</td>\n      <td>513.0</td>\n      <td>['sci-fi' 'thriller']</td>\n    </tr>\n    <tr>\n      <th>10</th>\n      <td>m10</td>\n      <td>affliction</td>\n      <td>1997</td>\n      <td>6.9</td>\n      <td>7252.0</td>\n      <td>['drama' 'mystery' 'thriller']</td>\n    </tr>\n    <tr>\n      <th>11</th>\n      <td>m11</td>\n      <td>air force one</td>\n      <td>1997</td>\n      <td>6.3</td>\n      <td>61978.0</td>\n      <td>['action' 'drama' 'thriller']</td>\n    </tr>\n    <tr>\n      <th>12</th>\n      <td>m12</td>\n      <td>airplane ii: the sequel</td>\n      <td>1982</td>\n      <td>5.8</td>\n      <td>15210.0</td>\n      <td>['comedy' 'romance' 'sci-fi']</td>\n    </tr>\n    <tr>\n      <th>13</th>\n      <td>m13</td>\n      <td>airplane!</td>\n      <td>1980</td>\n      <td>7.8</td>\n      <td>57692.0</td>\n      <td>['comedy' 'romance']</td>\n    </tr>\n    <tr>\n      <th>14</th>\n      <td>m14</td>\n      <td>alien nation</td>\n      <td>1988</td>\n      <td>6.1</td>\n      <td>5590.0</td>\n      <td>['crime' 'drama' 'sci-fi' 'thriller']</td>\n    </tr>\n    <tr>\n      <th>15</th>\n      <td>m15</td>\n      <td>aliens</td>\n      <td>1986</td>\n      <td>8.5</td>\n      <td>173518.0</td>\n      <td>['action' 'sci-fi' 'thriller']</td>\n    </tr>\n    <tr>\n      <th>16</th>\n      <td>m16</td>\n      <td>amadeus</td>\n      <td>1984</td>\n      <td>8.4</td>\n      <td>99138.0</td>\n      <td>['biography' 'drama' 'music']</td>\n    </tr>\n    <tr>\n      <th>17</th>\n      <td>m17</td>\n      <td>an american werewolf in london</td>\n      <td>1981</td>\n      <td>7.5</td>\n      <td>24443.0</td>\n      <td>['horror' 'romance']</td>\n    </tr>\n    <tr>\n      <th>18</th>\n      <td>m18</td>\n      <td>american madness</td>\n      <td>1932</td>\n      <td>7.4</td>\n      <td>702.0</td>\n      <td>['drama']</td>\n    </tr>\n    <tr>\n      <th>19</th>\n      <td>m19</td>\n      <td>american outlaws</td>\n      <td>2001</td>\n      <td>5.7</td>\n      <td>7425.0</td>\n      <td>['action' 'western']</td>\n    </tr>\n    <tr>\n      <th>20</th>\n      <td>m20</td>\n      <td>american psycho</td>\n      <td>2000</td>\n      <td>7.4</td>\n      <td>101357.0</td>\n      <td>['drama' 'thriller']</td>\n    </tr>\n    <tr>\n      <th>21</th>\n      <td>m21</td>\n      <td>antitrust</td>\n      <td>2001</td>\n      <td>6.0</td>\n      <td>16453.0</td>\n      <td>['drama' 'thriller']</td>\n    </tr>\n    <tr>\n      <th>22</th>\n      <td>m22</td>\n      <td>austin powers: international man of mystery</td>\n      <td>1997</td>\n      <td>7.1</td>\n      <td>75240.0</td>\n      <td>['action' 'adventure' 'comedy' 'crime']</td>\n    </tr>\n    <tr>\n      <th>23</th>\n      <td>m23</td>\n      <td>the avengers</td>\n      <td>1998</td>\n      <td>3.4</td>\n      <td>21519.0</td>\n      <td>['action' 'adventure' 'thriller']</td>\n    </tr>\n    <tr>\n      <th>24</th>\n      <td>m24</td>\n      <td>bachelor party</td>\n      <td>1984</td>\n      <td>5.9</td>\n      <td>14050.0</td>\n      <td>['comedy' 'romance']</td>\n    </tr>\n    <tr>\n      <th>25</th>\n      <td>m25</td>\n      <td>backdraft</td>\n      <td>1991</td>\n      <td>6.6</td>\n      <td>28541.0</td>\n      <td>['action' 'crime' 'drama' 'mystery' 'thriller']</td>\n    </tr>\n    <tr>\n      <th>26</th>\n      <td>m26</td>\n      <td>bad lieutenant</td>\n      <td>1992</td>\n      <td>6.9</td>\n      <td>13908.0</td>\n      <td>['crime' 'drama']</td>\n    </tr>\n    <tr>\n      <th>27</th>\n      <td>m27</td>\n      <td>bamboozled</td>\n      <td>2000</td>\n      <td>6.3</td>\n      <td>5995.0</td>\n      <td>['comedy' 'drama' 'music']</td>\n    </tr>\n    <tr>\n      <th>28</th>\n      <td>m28</td>\n      <td>barry lyndon</td>\n      <td>1975</td>\n      <td>8.1</td>\n      <td>40622.0</td>\n      <td>['drama' 'romance' 'war']</td>\n    </tr>\n    <tr>\n      <th>29</th>\n      <td>m29</td>\n      <td>basic</td>\n      <td>2003</td>\n      <td>6.3</td>\n      <td>26295.0</td>\n      <td>['crime' 'drama' 'mystery' 'thriller']</td>\n    </tr>\n    <tr>\n      <th>...</th>\n      <td>...</td>\n      <td>...</td>\n      <td>...</td>\n      <td>...</td>\n      <td>...</td>\n      <td>...</td>\n    </tr>\n    <tr>\n      <th>587</th>\n      <td>m587</td>\n      <td>twelve monkeys</td>\n      <td>1995</td>\n      <td>8.1</td>\n      <td>173320.0</td>\n      <td>['mystery' 'sci-fi' 'thriller']</td>\n    </tr>\n    <tr>\n      <th>588</th>\n      <td>m588</td>\n      <td>u-turn</td>\n      <td>1973</td>\n      <td>5.8</td>\n      <td>37.0</td>\n      <td>['drama']</td>\n    </tr>\n    <tr>\n      <th>589</th>\n      <td>m589</td>\n      <td>u turn</td>\n      <td>1997</td>\n      <td>6.7</td>\n      <td>25388.0</td>\n      <td>['crime' 'drama' 'thriller']</td>\n    </tr>\n    <tr>\n      <th>590</th>\n      <td>m590</td>\n      <td>unbreakable</td>\n      <td>2000</td>\n      <td>7.3</td>\n      <td>98767.0</td>\n      <td>['drama' 'fantasy' 'mystery' 'thriller']</td>\n    </tr>\n    <tr>\n      <th>591</th>\n      <td>m591</td>\n      <td>unforgiven</td>\n      <td>1992</td>\n      <td>8.3</td>\n      <td>101270.0</td>\n      <td>['drama' 'western']</td>\n    </tr>\n    <tr>\n      <th>592</th>\n      <td>m592</td>\n      <td>the usual suspects</td>\n      <td>1995</td>\n      <td>8.7</td>\n      <td>272137.0</td>\n      <td>['crime' 'mystery' 'thriller']</td>\n    </tr>\n    <tr>\n      <th>593</th>\n      <td>m593</td>\n      <td>verdict</td>\n      <td>1974</td>\n      <td>5.7</td>\n      <td>135.0</td>\n      <td>['drama']</td>\n    </tr>\n    <tr>\n      <th>594</th>\n      <td>m594</td>\n      <td>vertigo</td>\n      <td>1958</td>\n      <td>8.6</td>\n      <td>93524.0</td>\n      <td>['crime' 'mystery' 'romance' 'thriller']</td>\n    </tr>\n    <tr>\n      <th>595</th>\n      <td>m595</td>\n      <td>very bad things</td>\n      <td>1998</td>\n      <td>6.0</td>\n      <td>22977.0</td>\n      <td>['comedy' 'crime' 'thriller']</td>\n    </tr>\n    <tr>\n      <th>596</th>\n      <td>m596</td>\n      <td>viridiana</td>\n      <td>1961</td>\n      <td>8.2</td>\n      <td>6288.0</td>\n      <td>['drama']</td>\n    </tr>\n    <tr>\n      <th>597</th>\n      <td>m597</td>\n      <td>virtuosity</td>\n      <td>1995</td>\n      <td>5.3</td>\n      <td>11191.0</td>\n      <td>['action' 'crime' 'sci-fi' 'thriller']</td>\n    </tr>\n    <tr>\n      <th>598</th>\n      <td>m598</td>\n      <td>wag the dog</td>\n      <td>1997</td>\n      <td>7.1</td>\n      <td>36448.0</td>\n      <td>['comedy' 'drama']</td>\n    </tr>\n    <tr>\n      <th>599</th>\n      <td>m599</td>\n      <td>wall street</td>\n      <td>1987</td>\n      <td>7.3</td>\n      <td>39082.0</td>\n      <td>['crime' 'drama']</td>\n    </tr>\n    <tr>\n      <th>600</th>\n      <td>m600</td>\n      <td>waxwork</td>\n      <td>1988</td>\n      <td>6.0</td>\n      <td>2596.0</td>\n      <td>['comedy' 'fantasy' 'horror']</td>\n    </tr>\n    <tr>\n      <th>601</th>\n      <td>m601</td>\n      <td>what lies beneath</td>\n      <td>2000</td>\n      <td>6.5</td>\n      <td>46195.0</td>\n      <td>['drama' 'horror' 'mystery' 'thriller']</td>\n    </tr>\n    <tr>\n      <th>602</th>\n      <td>m602</td>\n      <td>what women want</td>\n      <td>2000</td>\n      <td>6.3</td>\n      <td>55269.0</td>\n      <td>['comedy' 'fantasy' 'romance']</td>\n    </tr>\n    <tr>\n      <th>603</th>\n      <td>m603</td>\n      <td>the witching hour</td>\n      <td>1996</td>\n      <td>6.5</td>\n      <td>69.0</td>\n      <td>['documentary' 'short']</td>\n    </tr>\n    <tr>\n      <th>604</th>\n      <td>m604</td>\n      <td>white angel</td>\n      <td>1994</td>\n      <td>4.4</td>\n      <td>99.0</td>\n      <td>['drama' 'thriller']</td>\n    </tr>\n    <tr>\n      <th>605</th>\n      <td>m605</td>\n      <td>who's your daddy?</td>\n      <td>2003/I</td>\n      <td>4.5</td>\n      <td>2267.0</td>\n      <td>['comedy']</td>\n    </tr>\n    <tr>\n      <th>606</th>\n      <td>m606</td>\n      <td>wild things</td>\n      <td>1998</td>\n      <td>6.6</td>\n      <td>40523.0</td>\n      <td>['crime' 'mystery' 'thriller']</td>\n    </tr>\n    <tr>\n      <th>607</th>\n      <td>m607</td>\n      <td>wild wild west</td>\n      <td>1999</td>\n      <td>4.3</td>\n      <td>54943.0</td>\n      <td>['action' 'western' 'comedy' 'sci-fi']</td>\n    </tr>\n    <tr>\n      <th>608</th>\n      <td>m608</td>\n      <td>willow</td>\n      <td>1988</td>\n      <td>7.1</td>\n      <td>33506.0</td>\n      <td>['action' 'adventure' 'drama' 'fantasy' 'roman...</td>\n    </tr>\n    <tr>\n      <th>609</th>\n      <td>m609</td>\n      <td>witness</td>\n      <td>1985</td>\n      <td>7.6</td>\n      <td>30705.0</td>\n      <td>['drama' 'romance' 'thriller']</td>\n    </tr>\n    <tr>\n      <th>610</th>\n      <td>m610</td>\n      <td>the wizard of oz</td>\n      <td>1939</td>\n      <td>8.3</td>\n      <td>104873.0</td>\n      <td>['adventure' 'family' 'fantasy' 'musical']</td>\n    </tr>\n    <tr>\n      <th>611</th>\n      <td>m611</td>\n      <td>the world is not enough</td>\n      <td>1999</td>\n      <td>6.3</td>\n      <td>60047.0</td>\n      <td>['action' 'adventure' 'thriller']</td>\n    </tr>\n    <tr>\n      <th>612</th>\n      <td>m612</td>\n      <td>watchmen</td>\n      <td>2009</td>\n      <td>7.8</td>\n      <td>135229.0</td>\n      <td>['action' 'crime' 'fantasy' 'mystery' 'sci-fi'...</td>\n    </tr>\n    <tr>\n      <th>613</th>\n      <td>m613</td>\n      <td>xxx</td>\n      <td>2002</td>\n      <td>5.6</td>\n      <td>53505.0</td>\n      <td>['action' 'adventure' 'crime']</td>\n    </tr>\n    <tr>\n      <th>614</th>\n      <td>m614</td>\n      <td>x-men</td>\n      <td>2000</td>\n      <td>7.4</td>\n      <td>122149.0</td>\n      <td>['action' 'sci-fi']</td>\n    </tr>\n    <tr>\n      <th>615</th>\n      <td>m615</td>\n      <td>young frankenstein</td>\n      <td>1974</td>\n      <td>8.0</td>\n      <td>57618.0</td>\n      <td>['comedy' 'sci-fi']</td>\n    </tr>\n    <tr>\n      <th>616</th>\n      <td>m616</td>\n      <td>zulu dawn</td>\n      <td>1979</td>\n      <td>6.4</td>\n      <td>1911.0</td>\n      <td>['action' 'adventure' 'drama' 'history' 'war']</td>\n    </tr>\n  </tbody>\n</table>\n<p>617 rows × 6 columns</p>\n</div>",
      "text/plain": [
       "       ID                                          Title    Year  IMDB Rating  \\\n",
       "0      m0                     10 things i hate about you    1999          6.9   \n",
       "1      m1                     1492: conquest of paradise    1992          6.2   \n",
       "2      m2                                     15 minutes    2001          6.1   \n",
       "3      m3                          2001: a space odyssey    1968          8.4   \n",
       "4      m4                                        48 hrs.    1982          6.9   \n",
       "5      m5                              the fifth element    1997          7.5   \n",
       "6      m6                                            8mm    1999          6.3   \n",
       "7      m7  a nightmare on elm street 4: the dream master    1988          5.2   \n",
       "8      m8     a nightmare on elm street: the dream child    1989          4.7   \n",
       "9      m9                           the atomic submarine    1959          4.9   \n",
       "10    m10                                     affliction    1997          6.9   \n",
       "11    m11                                  air force one    1997          6.3   \n",
       "12    m12                        airplane ii: the sequel    1982          5.8   \n",
       "13    m13                                      airplane!    1980          7.8   \n",
       "14    m14                                   alien nation    1988          6.1   \n",
       "15    m15                                         aliens    1986          8.5   \n",
       "16    m16                                        amadeus    1984          8.4   \n",
       "17    m17                 an american werewolf in london    1981          7.5   \n",
       "18    m18                               american madness    1932          7.4   \n",
       "19    m19                               american outlaws    2001          5.7   \n",
       "20    m20                                american psycho    2000          7.4   \n",
       "21    m21                                      antitrust    2001          6.0   \n",
       "22    m22    austin powers: international man of mystery    1997          7.1   \n",
       "23    m23                                   the avengers    1998          3.4   \n",
       "24    m24                                 bachelor party    1984          5.9   \n",
       "25    m25                                      backdraft    1991          6.6   \n",
       "26    m26                                 bad lieutenant    1992          6.9   \n",
       "27    m27                                     bamboozled    2000          6.3   \n",
       "28    m28                                   barry lyndon    1975          8.1   \n",
       "29    m29                                          basic    2003          6.3   \n",
       "..    ...                                            ...     ...          ...   \n",
       "587  m587                                 twelve monkeys    1995          8.1   \n",
       "588  m588                                         u-turn    1973          5.8   \n",
       "589  m589                                         u turn    1997          6.7   \n",
       "590  m590                                    unbreakable    2000          7.3   \n",
       "591  m591                                     unforgiven    1992          8.3   \n",
       "592  m592                             the usual suspects    1995          8.7   \n",
       "593  m593                                        verdict    1974          5.7   \n",
       "594  m594                                        vertigo    1958          8.6   \n",
       "595  m595                                very bad things    1998          6.0   \n",
       "596  m596                                      viridiana    1961          8.2   \n",
       "597  m597                                     virtuosity    1995          5.3   \n",
       "598  m598                                    wag the dog    1997          7.1   \n",
       "599  m599                                    wall street    1987          7.3   \n",
       "600  m600                                        waxwork    1988          6.0   \n",
       "601  m601                              what lies beneath    2000          6.5   \n",
       "602  m602                                what women want    2000          6.3   \n",
       "603  m603                              the witching hour    1996          6.5   \n",
       "604  m604                                    white angel    1994          4.4   \n",
       "605  m605                              who's your daddy?  2003/I          4.5   \n",
       "606  m606                                    wild things    1998          6.6   \n",
       "607  m607                                 wild wild west    1999          4.3   \n",
       "608  m608                                         willow    1988          7.1   \n",
       "609  m609                                        witness    1985          7.6   \n",
       "610  m610                               the wizard of oz    1939          8.3   \n",
       "611  m611                        the world is not enough    1999          6.3   \n",
       "612  m612                                       watchmen    2009          7.8   \n",
       "613  m613                                            xxx    2002          5.6   \n",
       "614  m614                                          x-men    2000          7.4   \n",
       "615  m615                             young frankenstein    1974          8.0   \n",
       "616  m616                                      zulu dawn    1979          6.4   \n",
       "\n",
       "        Votes                                             Genres  \n",
       "0     62847.0                               ['comedy' 'romance']  \n",
       "1     10421.0        ['adventure' 'biography' 'drama' 'history']  \n",
       "2     25854.0              ['action' 'crime' 'drama' 'thriller']  \n",
       "3    163227.0                   ['adventure' 'mystery' 'sci-fi']  \n",
       "4     22289.0     ['action' 'comedy' 'crime' 'drama' 'thriller']  \n",
       "5    133756.0  ['action' 'adventure' 'romance' 'sci-fi' 'thri...  \n",
       "6     48212.0                     ['crime' 'mystery' 'thriller']  \n",
       "7     13590.0                    ['fantasy' 'horror' 'thriller']  \n",
       "8     11092.0                    ['fantasy' 'horror' 'thriller']  \n",
       "9       513.0                              ['sci-fi' 'thriller']  \n",
       "10     7252.0                     ['drama' 'mystery' 'thriller']  \n",
       "11    61978.0                      ['action' 'drama' 'thriller']  \n",
       "12    15210.0                      ['comedy' 'romance' 'sci-fi']  \n",
       "13    57692.0                               ['comedy' 'romance']  \n",
       "14     5590.0              ['crime' 'drama' 'sci-fi' 'thriller']  \n",
       "15   173518.0                     ['action' 'sci-fi' 'thriller']  \n",
       "16    99138.0                      ['biography' 'drama' 'music']  \n",
       "17    24443.0                               ['horror' 'romance']  \n",
       "18      702.0                                          ['drama']  \n",
       "19     7425.0                               ['action' 'western']  \n",
       "20   101357.0                               ['drama' 'thriller']  \n",
       "21    16453.0                               ['drama' 'thriller']  \n",
       "22    75240.0            ['action' 'adventure' 'comedy' 'crime']  \n",
       "23    21519.0                  ['action' 'adventure' 'thriller']  \n",
       "24    14050.0                               ['comedy' 'romance']  \n",
       "25    28541.0    ['action' 'crime' 'drama' 'mystery' 'thriller']  \n",
       "26    13908.0                                  ['crime' 'drama']  \n",
       "27     5995.0                         ['comedy' 'drama' 'music']  \n",
       "28    40622.0                          ['drama' 'romance' 'war']  \n",
       "29    26295.0             ['crime' 'drama' 'mystery' 'thriller']  \n",
       "..        ...                                                ...  \n",
       "587  173320.0                    ['mystery' 'sci-fi' 'thriller']  \n",
       "588      37.0                                          ['drama']  \n",
       "589   25388.0                       ['crime' 'drama' 'thriller']  \n",
       "590   98767.0           ['drama' 'fantasy' 'mystery' 'thriller']  \n",
       "591  101270.0                                ['drama' 'western']  \n",
       "592  272137.0                     ['crime' 'mystery' 'thriller']  \n",
       "593     135.0                                          ['drama']  \n",
       "594   93524.0           ['crime' 'mystery' 'romance' 'thriller']  \n",
       "595   22977.0                      ['comedy' 'crime' 'thriller']  \n",
       "596    6288.0                                          ['drama']  \n",
       "597   11191.0             ['action' 'crime' 'sci-fi' 'thriller']  \n",
       "598   36448.0                                 ['comedy' 'drama']  \n",
       "599   39082.0                                  ['crime' 'drama']  \n",
       "600    2596.0                      ['comedy' 'fantasy' 'horror']  \n",
       "601   46195.0            ['drama' 'horror' 'mystery' 'thriller']  \n",
       "602   55269.0                     ['comedy' 'fantasy' 'romance']  \n",
       "603      69.0                            ['documentary' 'short']  \n",
       "604      99.0                               ['drama' 'thriller']  \n",
       "605    2267.0                                         ['comedy']  \n",
       "606   40523.0                     ['crime' 'mystery' 'thriller']  \n",
       "607   54943.0             ['action' 'western' 'comedy' 'sci-fi']  \n",
       "608   33506.0  ['action' 'adventure' 'drama' 'fantasy' 'roman...  \n",
       "609   30705.0                     ['drama' 'romance' 'thriller']  \n",
       "610  104873.0         ['adventure' 'family' 'fantasy' 'musical']  \n",
       "611   60047.0                  ['action' 'adventure' 'thriller']  \n",
       "612  135229.0  ['action' 'crime' 'fantasy' 'mystery' 'sci-fi'...  \n",
       "613   53505.0                     ['action' 'adventure' 'crime']  \n",
       "614  122149.0                                ['action' 'sci-fi']  \n",
       "615   57618.0                                ['comedy' 'sci-fi']  \n",
       "616    1911.0     ['action' 'adventure' 'drama' 'history' 'war']  \n",
       "\n",
       "[617 rows x 6 columns]"
      ]
     },
     "metadata": {},
     "execution_count": 6
    }
   ],
   "source": [
    "movies_df"
   ]
  },
  {
   "source": [
    "### Exporting movie lines dataset as CSV"
   ],
   "cell_type": "markdown",
   "metadata": {}
  },
  {
   "cell_type": "code",
   "execution_count": 5,
   "metadata": {},
   "outputs": [],
   "source": [
    "# line_ids = []\n",
    "# char_ids = []\n",
    "# movie_ids = []\n",
    "# chars = []\n",
    "# lines = []\n",
    "# dialogue_path = 'dialogue_data/movie_lines.tsv'\n",
    "# with open(dialogue_path) as f:\n",
    "#     for curr in f:\n",
    "#         L = curr.index('L')\n",
    "#         U = curr.index('u')\n",
    "#         M = curr.index('m')\n",
    "#         C = curr.index('\\t', M+1)\n",
    "#         S = curr.index('\\t', C+1)\n",
    "#         line_id = curr[L:U].strip()\n",
    "#         char_id = curr[U:M].strip()\n",
    "#         movie_id = curr[M:C].strip()\n",
    "#         char = curr[C:S].strip()\n",
    "#         line = curr[S:].strip()\n",
    "\n",
    "#         line_ids.append(line_id)\n",
    "#         char_ids.append(char_id)\n",
    "#         movie_ids.append(movie_id)\n",
    "#         chars.append(char)\n",
    "#         lines.append(line)\n",
    "#         if len(line_ids)%1000==0:\n",
    "#             print(len(line_ids))\n",
    "\n",
    "# lines_df = lines_df.from_dict({'Line ID':line_ids, 'Character ID':char_ids, 'Movie ID':movie_ids,'Character':chars, 'Line':lines})\n"
   ]
  },
  {
   "cell_type": "code",
   "execution_count": 6,
   "metadata": {},
   "outputs": [
    {
     "output_type": "error",
     "ename": "NameError",
     "evalue": "name 'lines_df' is not defined",
     "traceback": [
      "\u001b[0;31m\u001b[0m",
      "\u001b[0;31mNameError\u001b[0mTraceback (most recent call last)",
      "\u001b[0;32m<ipython-input-6-09be4d73eed8>\u001b[0m in \u001b[0;36m<module>\u001b[0;34m()\u001b[0m\n\u001b[0;32m----> 1\u001b[0;31m \u001b[0mlines_df\u001b[0m\u001b[0;34m.\u001b[0m\u001b[0mto_csv\u001b[0m\u001b[0;34m(\u001b[0m\u001b[0;34m'movie_lines_cleaned.csv'\u001b[0m\u001b[0;34m)\u001b[0m\u001b[0;34m\u001b[0m\u001b[0m\n\u001b[0m",
      "\u001b[0;31mNameError\u001b[0m: name 'lines_df' is not defined"
     ]
    }
   ],
   "source": [
    "# lines_df.to_csv('movie_lines_cleaned.csv')"
   ]
  },
  {
   "source": [
    "### Movies character metadata"
   ],
   "cell_type": "markdown",
   "metadata": {}
  },
  {
   "cell_type": "code",
   "execution_count": 7,
   "metadata": {},
   "outputs": [],
   "source": [
    "lines_df = pd.read_csv('data_cleaned_merged/movie_lines_cleaned.csv')"
   ]
  },
  {
   "cell_type": "code",
   "execution_count": 8,
   "metadata": {},
   "outputs": [],
   "source": [
    "char_path = 'dialogue_data/movie_characters_metadata.tsv'\n",
    "char_df = pd.read_csv(char_path, sep='\\t', header=None)\n",
    "char_df.rename(columns={0:'Character ID', 1:'Character', 2:'Movie ID', 3:'Title', 4:'Gender', 5:'Position in Credits'}, inplace=True)\n",
    "char_df.Gender = char_df.Gender.str.lower()"
   ]
  },
  {
   "cell_type": "code",
   "execution_count": 9,
   "metadata": {},
   "outputs": [
    {
     "output_type": "execute_result",
     "data": {
      "text/html": "<div>\n<style scoped>\n    .dataframe tbody tr th:only-of-type {\n        vertical-align: middle;\n    }\n\n    .dataframe tbody tr th {\n        vertical-align: top;\n    }\n\n    .dataframe thead th {\n        text-align: right;\n    }\n</style>\n<table border=\"1\" class=\"dataframe\">\n  <thead>\n    <tr style=\"text-align: right;\">\n      <th></th>\n      <th>Character ID</th>\n      <th>Character</th>\n      <th>Movie ID</th>\n      <th>Title</th>\n      <th>Gender</th>\n      <th>Position in Credits</th>\n    </tr>\n  </thead>\n  <tbody>\n    <tr>\n      <th>0</th>\n      <td>u0</td>\n      <td>BIANCA</td>\n      <td>m0</td>\n      <td>10 things i hate about you</td>\n      <td>f</td>\n      <td>4</td>\n    </tr>\n    <tr>\n      <th>1</th>\n      <td>u1</td>\n      <td>BRUCE</td>\n      <td>m0</td>\n      <td>10 things i hate about you</td>\n      <td>?</td>\n      <td>?</td>\n    </tr>\n    <tr>\n      <th>2</th>\n      <td>u2</td>\n      <td>CAMERON</td>\n      <td>m0</td>\n      <td>10 things i hate about you</td>\n      <td>m</td>\n      <td>3</td>\n    </tr>\n    <tr>\n      <th>3</th>\n      <td>u3</td>\n      <td>CHASTITY</td>\n      <td>m0</td>\n      <td>10 things i hate about you</td>\n      <td>?</td>\n      <td>?</td>\n    </tr>\n    <tr>\n      <th>4</th>\n      <td>u4</td>\n      <td>JOEY</td>\n      <td>m0</td>\n      <td>10 things i hate about you</td>\n      <td>m</td>\n      <td>6</td>\n    </tr>\n  </tbody>\n</table>\n</div>",
      "text/plain": [
       "  Character ID Character Movie ID                       Title Gender  \\\n",
       "0           u0    BIANCA       m0  10 things i hate about you      f   \n",
       "1           u1     BRUCE       m0  10 things i hate about you      ?   \n",
       "2           u2   CAMERON       m0  10 things i hate about you      m   \n",
       "3           u3  CHASTITY       m0  10 things i hate about you      ?   \n",
       "4           u4      JOEY       m0  10 things i hate about you      m   \n",
       "\n",
       "  Position in Credits  \n",
       "0                   4  \n",
       "1                   ?  \n",
       "2                   3  \n",
       "3                   ?  \n",
       "4                   6  "
      ]
     },
     "metadata": {},
     "execution_count": 9
    }
   ],
   "source": [
    "char_df.head()"
   ]
  },
  {
   "source": [
    "### Merging character metadata w/ lines data"
   ],
   "cell_type": "markdown",
   "metadata": {}
  },
  {
   "cell_type": "code",
   "execution_count": 10,
   "metadata": {},
   "outputs": [],
   "source": [
    "merged = lines_df.merge(char_df, on=['Character ID','Movie ID'], how='inner', suffixes=['1','2'])\n",
    "merged.Gender=merged.Gender.str.lower()"
   ]
  },
  {
   "cell_type": "code",
   "execution_count": 11,
   "metadata": {},
   "outputs": [],
   "source": [
    "merged = merged.dropna()"
   ]
  },
  {
   "cell_type": "code",
   "execution_count": 12,
   "metadata": {},
   "outputs": [],
   "source": [
    "merged.to_csv('data_cleaned_merged/movie_lines_with_characters.csv')"
   ]
  },
  {
   "source": [
    "### Female vs. Male Presence in Credits & Lines"
   ],
   "cell_type": "markdown",
   "metadata": {}
  },
  {
   "cell_type": "code",
   "execution_count": 13,
   "metadata": {},
   "outputs": [
    {
     "output_type": "stream",
     "name": "stdout",
     "text": [
      "Female lines: 71134\nMale lines: 170200\nUnk gender lines: 62480\n"
     ]
    }
   ],
   "source": [
    "print('Female lines: ' + str(len(merged[merged.Gender =='f'])))\n",
    "print('Male lines: ' + str(len(merged[merged.Gender =='m'])))\n",
    "print('Unk gender lines: ' + str(len(merged[merged.Gender =='?'])))"
   ]
  },
  {
   "cell_type": "code",
   "execution_count": 14,
   "metadata": {},
   "outputs": [
    {
     "output_type": "stream",
     "name": "stdout",
     "text": [
      "#1 Male Characters: 408\n#1 Female Characters: 89\n#1 Unk Characters: 0\n#2 Male Characters: 232\n#2 Female Characters: 211\n#2 Unk Characters: 0\n#3 Male Characters: 232\n#3 Female Characters: 120\n#3 Unk Characters: 0\n#4 Male Characters: 185\n#4 Female Characters: 83\n#4 Unk Characters: 0\n#5 Male Characters: 159\n#5 Female Characters: 52\n#5 Unk Characters: 0\n#6 Male Characters: 123\n#6 Female Characters: 46\n#6 Unk Characters: 0\n#7 Male Characters: 86\n#7 Female Characters: 39\n#7 Unk Characters: 0\n#8 Male Characters: 65\n#8 Female Characters: 35\n#8 Unk Characters: 0\n#9 Male Characters: 51\n#9 Female Characters: 28\n#9 Unk Characters: 0\n#10 Male Characters: 32\n#10 Female Characters: 22\n#10 Unk Characters: 0\n"
     ]
    }
   ],
   "source": [
    "for i in range(1,11):\n",
    "    filter = char_df[\"Position in Credits\"]==str(i)\n",
    "    pos = char_df.where(filter, inplace=False).dropna()\n",
    "    print('#' + str(i) + ' Male Characters: ' + str(len(pos[pos.Gender == 'm'])))\n",
    "    print('#' + str(i) + ' Female Characters: ' + str(len(pos[pos.Gender == 'f'])))\n",
    "    print('#' + str(i) + ' Unk Characters: ' + str(len(pos[pos.Gender == '?']) + len(pos[pos.Gender == np.NaN] )))"
   ]
  },
  {
   "cell_type": "code",
   "execution_count": 15,
   "metadata": {},
   "outputs": [],
   "source": [
    "merged['Length'] = merged['Line'].apply(lambda d: d.split())"
   ]
  },
  {
   "cell_type": "code",
   "execution_count": 17,
   "metadata": {},
   "outputs": [
    {
     "output_type": "execute_result",
     "data": {
      "text/html": "<div>\n<style scoped>\n    .dataframe tbody tr th:only-of-type {\n        vertical-align: middle;\n    }\n\n    .dataframe tbody tr th {\n        vertical-align: top;\n    }\n\n    .dataframe thead th {\n        text-align: right;\n    }\n</style>\n<table border=\"1\" class=\"dataframe\">\n  <thead>\n    <tr style=\"text-align: right;\">\n      <th></th>\n      <th>Unnamed: 0</th>\n    </tr>\n    <tr>\n      <th>Gender</th>\n      <th></th>\n    </tr>\n  </thead>\n  <tbody>\n    <tr>\n      <th>?</th>\n      <td>9582114327</td>\n    </tr>\n    <tr>\n      <th>f</th>\n      <td>10998298267</td>\n    </tr>\n    <tr>\n      <th>m</th>\n      <td>25663706555</td>\n    </tr>\n  </tbody>\n</table>\n</div>",
      "text/plain": [
       "         Unnamed: 0\n",
       "Gender             \n",
       "?        9582114327\n",
       "f       10998298267\n",
       "m       25663706555"
      ]
     },
     "metadata": {},
     "execution_count": 17
    }
   ],
   "source": [
    "# Total length of lines by gender\n",
    "merged.groupby('Gender').sum()"
   ]
  },
  {
   "cell_type": "code",
   "execution_count": 18,
   "metadata": {},
   "outputs": [
    {
     "output_type": "execute_result",
     "data": {
      "text/html": "<div>\n<style scoped>\n    .dataframe tbody tr th:only-of-type {\n        vertical-align: middle;\n    }\n\n    .dataframe tbody tr th {\n        vertical-align: top;\n    }\n\n    .dataframe thead th {\n        text-align: right;\n    }\n</style>\n<table border=\"1\" class=\"dataframe\">\n  <thead>\n    <tr style=\"text-align: right;\">\n      <th></th>\n      <th>Unnamed: 0</th>\n    </tr>\n    <tr>\n      <th>Gender</th>\n      <th></th>\n    </tr>\n  </thead>\n  <tbody>\n    <tr>\n      <th>?</th>\n      <td>153362.905362</td>\n    </tr>\n    <tr>\n      <th>f</th>\n      <td>154613.803062</td>\n    </tr>\n    <tr>\n      <th>m</th>\n      <td>150785.584929</td>\n    </tr>\n  </tbody>\n</table>\n</div>",
      "text/plain": [
       "           Unnamed: 0\n",
       "Gender               \n",
       "?       153362.905362\n",
       "f       154613.803062\n",
       "m       150785.584929"
      ]
     },
     "metadata": {},
     "execution_count": 18
    }
   ],
   "source": [
    "# Avg length of lines by gender\n",
    "merged.groupby('Gender').mean()"
   ]
  },
  {
   "cell_type": "code",
   "execution_count": 28,
   "metadata": {},
   "outputs": [],
   "source": [
    "merged_all = movies_df.merge(merged, on=['Title'], how='inner')"
   ]
  },
  {
   "cell_type": "code",
   "execution_count": 30,
   "metadata": {},
   "outputs": [],
   "source": [
    "merged_all.to_csv('data_cleaned_merged/movie_lines_with_all_metadata.csv')"
   ]
  },
  {
   "cell_type": "code",
   "execution_count": 40,
   "metadata": {},
   "outputs": [
    {
     "output_type": "execute_result",
     "data": {
      "text/html": "<div>\n<style scoped>\n    .dataframe tbody tr th:only-of-type {\n        vertical-align: middle;\n    }\n\n    .dataframe tbody tr th {\n        vertical-align: top;\n    }\n\n    .dataframe thead th {\n        text-align: right;\n    }\n</style>\n<table border=\"1\" class=\"dataframe\">\n  <thead>\n    <tr style=\"text-align: right;\">\n      <th></th>\n      <th>ID</th>\n      <th>Title</th>\n      <th>IMDB Rating</th>\n      <th>Votes</th>\n      <th>Genres</th>\n    </tr>\n    <tr>\n      <th>Year</th>\n      <th></th>\n      <th></th>\n      <th></th>\n      <th></th>\n      <th></th>\n    </tr>\n  </thead>\n  <tbody>\n    <tr>\n      <th>1927</th>\n      <td>2</td>\n      <td>2</td>\n      <td>2</td>\n      <td>2</td>\n      <td>2</td>\n    </tr>\n    <tr>\n      <th>1931</th>\n      <td>2</td>\n      <td>2</td>\n      <td>2</td>\n      <td>2</td>\n      <td>2</td>\n    </tr>\n    <tr>\n      <th>1932</th>\n      <td>4</td>\n      <td>4</td>\n      <td>4</td>\n      <td>4</td>\n      <td>4</td>\n    </tr>\n    <tr>\n      <th>1933</th>\n      <td>2</td>\n      <td>2</td>\n      <td>2</td>\n      <td>2</td>\n      <td>2</td>\n    </tr>\n    <tr>\n      <th>1934</th>\n      <td>3</td>\n      <td>3</td>\n      <td>3</td>\n      <td>3</td>\n      <td>3</td>\n    </tr>\n    <tr>\n      <th>1936</th>\n      <td>1</td>\n      <td>1</td>\n      <td>1</td>\n      <td>1</td>\n      <td>1</td>\n    </tr>\n    <tr>\n      <th>1937</th>\n      <td>1</td>\n      <td>1</td>\n      <td>1</td>\n      <td>1</td>\n      <td>1</td>\n    </tr>\n    <tr>\n      <th>1939</th>\n      <td>3</td>\n      <td>3</td>\n      <td>3</td>\n      <td>3</td>\n      <td>3</td>\n    </tr>\n    <tr>\n      <th>1940</th>\n      <td>2</td>\n      <td>2</td>\n      <td>2</td>\n      <td>2</td>\n      <td>2</td>\n    </tr>\n    <tr>\n      <th>1941</th>\n      <td>2</td>\n      <td>2</td>\n      <td>2</td>\n      <td>2</td>\n      <td>2</td>\n    </tr>\n    <tr>\n      <th>1942</th>\n      <td>1</td>\n      <td>1</td>\n      <td>1</td>\n      <td>1</td>\n      <td>1</td>\n    </tr>\n    <tr>\n      <th>1943</th>\n      <td>3</td>\n      <td>3</td>\n      <td>3</td>\n      <td>3</td>\n      <td>3</td>\n    </tr>\n    <tr>\n      <th>1944</th>\n      <td>1</td>\n      <td>1</td>\n      <td>1</td>\n      <td>1</td>\n      <td>1</td>\n    </tr>\n    <tr>\n      <th>1945</th>\n      <td>2</td>\n      <td>2</td>\n      <td>2</td>\n      <td>2</td>\n      <td>2</td>\n    </tr>\n    <tr>\n      <th>1946</th>\n      <td>1</td>\n      <td>1</td>\n      <td>1</td>\n      <td>1</td>\n      <td>1</td>\n    </tr>\n    <tr>\n      <th>1949</th>\n      <td>3</td>\n      <td>3</td>\n      <td>3</td>\n      <td>3</td>\n      <td>3</td>\n    </tr>\n    <tr>\n      <th>1950</th>\n      <td>2</td>\n      <td>2</td>\n      <td>2</td>\n      <td>2</td>\n      <td>2</td>\n    </tr>\n    <tr>\n      <th>1953</th>\n      <td>3</td>\n      <td>3</td>\n      <td>3</td>\n      <td>3</td>\n      <td>3</td>\n    </tr>\n    <tr>\n      <th>1954</th>\n      <td>3</td>\n      <td>3</td>\n      <td>3</td>\n      <td>3</td>\n      <td>3</td>\n    </tr>\n    <tr>\n      <th>1955</th>\n      <td>3</td>\n      <td>3</td>\n      <td>3</td>\n      <td>3</td>\n      <td>3</td>\n    </tr>\n    <tr>\n      <th>1956</th>\n      <td>1</td>\n      <td>1</td>\n      <td>1</td>\n      <td>1</td>\n      <td>1</td>\n    </tr>\n    <tr>\n      <th>1957</th>\n      <td>1</td>\n      <td>1</td>\n      <td>1</td>\n      <td>1</td>\n      <td>1</td>\n    </tr>\n    <tr>\n      <th>1958</th>\n      <td>1</td>\n      <td>1</td>\n      <td>1</td>\n      <td>1</td>\n      <td>1</td>\n    </tr>\n    <tr>\n      <th>1959</th>\n      <td>3</td>\n      <td>3</td>\n      <td>3</td>\n      <td>3</td>\n      <td>3</td>\n    </tr>\n    <tr>\n      <th>1960</th>\n      <td>3</td>\n      <td>3</td>\n      <td>3</td>\n      <td>3</td>\n      <td>3</td>\n    </tr>\n    <tr>\n      <th>1961</th>\n      <td>2</td>\n      <td>2</td>\n      <td>2</td>\n      <td>2</td>\n      <td>2</td>\n    </tr>\n    <tr>\n      <th>1963</th>\n      <td>2</td>\n      <td>2</td>\n      <td>2</td>\n      <td>2</td>\n      <td>2</td>\n    </tr>\n    <tr>\n      <th>1964</th>\n      <td>3</td>\n      <td>3</td>\n      <td>3</td>\n      <td>3</td>\n      <td>3</td>\n    </tr>\n    <tr>\n      <th>1965</th>\n      <td>1</td>\n      <td>1</td>\n      <td>1</td>\n      <td>1</td>\n      <td>1</td>\n    </tr>\n    <tr>\n      <th>1966</th>\n      <td>2</td>\n      <td>2</td>\n      <td>2</td>\n      <td>2</td>\n      <td>2</td>\n    </tr>\n    <tr>\n      <th>...</th>\n      <td>...</td>\n      <td>...</td>\n      <td>...</td>\n      <td>...</td>\n      <td>...</td>\n    </tr>\n    <tr>\n      <th>1992</th>\n      <td>18</td>\n      <td>18</td>\n      <td>18</td>\n      <td>18</td>\n      <td>18</td>\n    </tr>\n    <tr>\n      <th>1992/I</th>\n      <td>1</td>\n      <td>1</td>\n      <td>1</td>\n      <td>1</td>\n      <td>1</td>\n    </tr>\n    <tr>\n      <th>1993</th>\n      <td>18</td>\n      <td>18</td>\n      <td>18</td>\n      <td>18</td>\n      <td>18</td>\n    </tr>\n    <tr>\n      <th>1994</th>\n      <td>19</td>\n      <td>19</td>\n      <td>19</td>\n      <td>19</td>\n      <td>19</td>\n    </tr>\n    <tr>\n      <th>1995</th>\n      <td>21</td>\n      <td>21</td>\n      <td>21</td>\n      <td>21</td>\n      <td>21</td>\n    </tr>\n    <tr>\n      <th>1995/I</th>\n      <td>1</td>\n      <td>1</td>\n      <td>1</td>\n      <td>1</td>\n      <td>1</td>\n    </tr>\n    <tr>\n      <th>1996</th>\n      <td>23</td>\n      <td>23</td>\n      <td>23</td>\n      <td>23</td>\n      <td>23</td>\n    </tr>\n    <tr>\n      <th>1996/I</th>\n      <td>1</td>\n      <td>1</td>\n      <td>1</td>\n      <td>1</td>\n      <td>1</td>\n    </tr>\n    <tr>\n      <th>1997</th>\n      <td>38</td>\n      <td>38</td>\n      <td>38</td>\n      <td>38</td>\n      <td>38</td>\n    </tr>\n    <tr>\n      <th>1998</th>\n      <td>34</td>\n      <td>34</td>\n      <td>34</td>\n      <td>34</td>\n      <td>34</td>\n    </tr>\n    <tr>\n      <th>1998/I</th>\n      <td>3</td>\n      <td>3</td>\n      <td>3</td>\n      <td>3</td>\n      <td>3</td>\n    </tr>\n    <tr>\n      <th>1999</th>\n      <td>42</td>\n      <td>42</td>\n      <td>42</td>\n      <td>42</td>\n      <td>42</td>\n    </tr>\n    <tr>\n      <th>2000</th>\n      <td>40</td>\n      <td>40</td>\n      <td>40</td>\n      <td>40</td>\n      <td>40</td>\n    </tr>\n    <tr>\n      <th>2000/I</th>\n      <td>1</td>\n      <td>1</td>\n      <td>1</td>\n      <td>1</td>\n      <td>1</td>\n    </tr>\n    <tr>\n      <th>2001</th>\n      <td>30</td>\n      <td>30</td>\n      <td>30</td>\n      <td>30</td>\n      <td>30</td>\n    </tr>\n    <tr>\n      <th>2002</th>\n      <td>17</td>\n      <td>17</td>\n      <td>17</td>\n      <td>17</td>\n      <td>17</td>\n    </tr>\n    <tr>\n      <th>2002/I</th>\n      <td>1</td>\n      <td>1</td>\n      <td>1</td>\n      <td>1</td>\n      <td>1</td>\n    </tr>\n    <tr>\n      <th>2003</th>\n      <td>15</td>\n      <td>15</td>\n      <td>15</td>\n      <td>15</td>\n      <td>15</td>\n    </tr>\n    <tr>\n      <th>2003/I</th>\n      <td>1</td>\n      <td>1</td>\n      <td>1</td>\n      <td>1</td>\n      <td>1</td>\n    </tr>\n    <tr>\n      <th>2004</th>\n      <td>13</td>\n      <td>13</td>\n      <td>13</td>\n      <td>13</td>\n      <td>13</td>\n    </tr>\n    <tr>\n      <th>2004/I</th>\n      <td>1</td>\n      <td>1</td>\n      <td>1</td>\n      <td>1</td>\n      <td>1</td>\n    </tr>\n    <tr>\n      <th>2005</th>\n      <td>8</td>\n      <td>8</td>\n      <td>8</td>\n      <td>8</td>\n      <td>8</td>\n    </tr>\n    <tr>\n      <th>2005/I</th>\n      <td>1</td>\n      <td>1</td>\n      <td>1</td>\n      <td>1</td>\n      <td>1</td>\n    </tr>\n    <tr>\n      <th>2006</th>\n      <td>6</td>\n      <td>6</td>\n      <td>6</td>\n      <td>6</td>\n      <td>6</td>\n    </tr>\n    <tr>\n      <th>2007</th>\n      <td>4</td>\n      <td>4</td>\n      <td>4</td>\n      <td>4</td>\n      <td>4</td>\n    </tr>\n    <tr>\n      <th>2007/I</th>\n      <td>1</td>\n      <td>1</td>\n      <td>1</td>\n      <td>1</td>\n      <td>1</td>\n    </tr>\n    <tr>\n      <th>2008</th>\n      <td>1</td>\n      <td>1</td>\n      <td>1</td>\n      <td>1</td>\n      <td>1</td>\n    </tr>\n    <tr>\n      <th>2009</th>\n      <td>2</td>\n      <td>2</td>\n      <td>2</td>\n      <td>2</td>\n      <td>2</td>\n    </tr>\n    <tr>\n      <th>2009/I</th>\n      <td>1</td>\n      <td>1</td>\n      <td>1</td>\n      <td>1</td>\n      <td>1</td>\n    </tr>\n    <tr>\n      <th>2010</th>\n      <td>1</td>\n      <td>1</td>\n      <td>1</td>\n      <td>1</td>\n      <td>1</td>\n    </tr>\n  </tbody>\n</table>\n<p>88 rows × 5 columns</p>\n</div>",
      "text/plain": [
       "        ID  Title  IMDB Rating  Votes  Genres\n",
       "Year                                         \n",
       "1927     2      2            2      2       2\n",
       "1931     2      2            2      2       2\n",
       "1932     4      4            4      4       4\n",
       "1933     2      2            2      2       2\n",
       "1934     3      3            3      3       3\n",
       "1936     1      1            1      1       1\n",
       "1937     1      1            1      1       1\n",
       "1939     3      3            3      3       3\n",
       "1940     2      2            2      2       2\n",
       "1941     2      2            2      2       2\n",
       "1942     1      1            1      1       1\n",
       "1943     3      3            3      3       3\n",
       "1944     1      1            1      1       1\n",
       "1945     2      2            2      2       2\n",
       "1946     1      1            1      1       1\n",
       "1949     3      3            3      3       3\n",
       "1950     2      2            2      2       2\n",
       "1953     3      3            3      3       3\n",
       "1954     3      3            3      3       3\n",
       "1955     3      3            3      3       3\n",
       "1956     1      1            1      1       1\n",
       "1957     1      1            1      1       1\n",
       "1958     1      1            1      1       1\n",
       "1959     3      3            3      3       3\n",
       "1960     3      3            3      3       3\n",
       "1961     2      2            2      2       2\n",
       "1963     2      2            2      2       2\n",
       "1964     3      3            3      3       3\n",
       "1965     1      1            1      1       1\n",
       "1966     2      2            2      2       2\n",
       "...     ..    ...          ...    ...     ...\n",
       "1992    18     18           18     18      18\n",
       "1992/I   1      1            1      1       1\n",
       "1993    18     18           18     18      18\n",
       "1994    19     19           19     19      19\n",
       "1995    21     21           21     21      21\n",
       "1995/I   1      1            1      1       1\n",
       "1996    23     23           23     23      23\n",
       "1996/I   1      1            1      1       1\n",
       "1997    38     38           38     38      38\n",
       "1998    34     34           34     34      34\n",
       "1998/I   3      3            3      3       3\n",
       "1999    42     42           42     42      42\n",
       "2000    40     40           40     40      40\n",
       "2000/I   1      1            1      1       1\n",
       "2001    30     30           30     30      30\n",
       "2002    17     17           17     17      17\n",
       "2002/I   1      1            1      1       1\n",
       "2003    15     15           15     15      15\n",
       "2003/I   1      1            1      1       1\n",
       "2004    13     13           13     13      13\n",
       "2004/I   1      1            1      1       1\n",
       "2005     8      8            8      8       8\n",
       "2005/I   1      1            1      1       1\n",
       "2006     6      6            6      6       6\n",
       "2007     4      4            4      4       4\n",
       "2007/I   1      1            1      1       1\n",
       "2008     1      1            1      1       1\n",
       "2009     2      2            2      2       2\n",
       "2009/I   1      1            1      1       1\n",
       "2010     1      1            1      1       1\n",
       "\n",
       "[88 rows x 5 columns]"
      ]
     },
     "metadata": {},
     "execution_count": 40
    }
   ],
   "source": [
    "test = movies_df.groupby('Year').count().sort_values(by='Year')\n",
    "test"
   ]
  },
  {
   "cell_type": "code",
   "execution_count": null,
   "metadata": {},
   "outputs": [],
   "source": []
  }
 ]
}