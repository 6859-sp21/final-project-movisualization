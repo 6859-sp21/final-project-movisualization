{
 "metadata": {
  "language_info": {
   "codemirror_mode": {
    "name": "ipython",
    "version": 3
   },
   "file_extension": ".py",
   "mimetype": "text/x-python",
   "name": "python",
   "nbconvert_exporter": "python",
   "pygments_lexer": "ipython3",
   "version": "2.7.16"
  },
  "orig_nbformat": 2,
  "kernelspec": {
   "name": "python3",
   "display_name": "Python 2.7.16 64-bit",
   "metadata": {
    "interpreter": {
     "hash": "545e036c4b32438aced1f6b3c8d38ca151d9c36189e05839cb0aa568fda70ddd"
    }
   }
  }
 },
 "nbformat": 4,
 "nbformat_minor": 2,
 "cells": [
  {
   "cell_type": "code",
   "execution_count": 4,
   "metadata": {},
   "outputs": [],
   "source": [
    "import pandas as pd\n",
    "import numpy as np\n",
    "import re"
   ]
  },
  {
   "source": [
    "### Movies metadata"
   ],
   "cell_type": "markdown",
   "metadata": {}
  },
  {
   "cell_type": "code",
   "execution_count": 5,
   "metadata": {},
   "outputs": [],
   "source": [
    "movies_path = 'dialogue_data/movie_titles_metadata.tsv'\n",
    "movies_df = pd.read_csv(movies_path, sep='\\t', header=None)\n",
    "movies_df.rename(columns={0:'ID', 1:'Title', 2:'Year', 3:'IMDB Rating', 4:'Votes', 5:'Genres'}, inplace=True)"
   ]
  },
  {
   "cell_type": "code",
   "execution_count": 6,
   "metadata": {},
   "outputs": [
    {
     "output_type": "execute_result",
     "data": {
      "text/html": "<div>\n<style scoped>\n    .dataframe tbody tr th:only-of-type {\n        vertical-align: middle;\n    }\n\n    .dataframe tbody tr th {\n        vertical-align: top;\n    }\n\n    .dataframe thead th {\n        text-align: right;\n    }\n</style>\n<table border=\"1\" class=\"dataframe\">\n  <thead>\n    <tr style=\"text-align: right;\">\n      <th></th>\n      <th>ID</th>\n      <th>Title</th>\n      <th>Year</th>\n      <th>IMDB Rating</th>\n      <th>Votes</th>\n      <th>Genres</th>\n    </tr>\n  </thead>\n  <tbody>\n    <tr>\n      <th>0</th>\n      <td>m0</td>\n      <td>10 things i hate about you</td>\n      <td>1999</td>\n      <td>6.9</td>\n      <td>62847.0</td>\n      <td>['comedy' 'romance']</td>\n    </tr>\n    <tr>\n      <th>1</th>\n      <td>m1</td>\n      <td>1492: conquest of paradise</td>\n      <td>1992</td>\n      <td>6.2</td>\n      <td>10421.0</td>\n      <td>['adventure' 'biography' 'drama' 'history']</td>\n    </tr>\n    <tr>\n      <th>2</th>\n      <td>m2</td>\n      <td>15 minutes</td>\n      <td>2001</td>\n      <td>6.1</td>\n      <td>25854.0</td>\n      <td>['action' 'crime' 'drama' 'thriller']</td>\n    </tr>\n    <tr>\n      <th>3</th>\n      <td>m3</td>\n      <td>2001: a space odyssey</td>\n      <td>1968</td>\n      <td>8.4</td>\n      <td>163227.0</td>\n      <td>['adventure' 'mystery' 'sci-fi']</td>\n    </tr>\n    <tr>\n      <th>4</th>\n      <td>m4</td>\n      <td>48 hrs.</td>\n      <td>1982</td>\n      <td>6.9</td>\n      <td>22289.0</td>\n      <td>['action' 'comedy' 'crime' 'drama' 'thriller']</td>\n    </tr>\n    <tr>\n      <th>5</th>\n      <td>m5</td>\n      <td>the fifth element</td>\n      <td>1997</td>\n      <td>7.5</td>\n      <td>133756.0</td>\n      <td>['action' 'adventure' 'romance' 'sci-fi' 'thri...</td>\n    </tr>\n    <tr>\n      <th>6</th>\n      <td>m6</td>\n      <td>8mm</td>\n      <td>1999</td>\n      <td>6.3</td>\n      <td>48212.0</td>\n      <td>['crime' 'mystery' 'thriller']</td>\n    </tr>\n    <tr>\n      <th>7</th>\n      <td>m7</td>\n      <td>a nightmare on elm street 4: the dream master</td>\n      <td>1988</td>\n      <td>5.2</td>\n      <td>13590.0</td>\n      <td>['fantasy' 'horror' 'thriller']</td>\n    </tr>\n    <tr>\n      <th>8</th>\n      <td>m8</td>\n      <td>a nightmare on elm street: the dream child</td>\n      <td>1989</td>\n      <td>4.7</td>\n      <td>11092.0</td>\n      <td>['fantasy' 'horror' 'thriller']</td>\n    </tr>\n    <tr>\n      <th>9</th>\n      <td>m9</td>\n      <td>the atomic submarine</td>\n      <td>1959</td>\n      <td>4.9</td>\n      <td>513.0</td>\n      <td>['sci-fi' 'thriller']</td>\n    </tr>\n    <tr>\n      <th>10</th>\n      <td>m10</td>\n      <td>affliction</td>\n      <td>1997</td>\n      <td>6.9</td>\n      <td>7252.0</td>\n      <td>['drama' 'mystery' 'thriller']</td>\n    </tr>\n    <tr>\n      <th>11</th>\n      <td>m11</td>\n      <td>air force one</td>\n      <td>1997</td>\n      <td>6.3</td>\n      <td>61978.0</td>\n      <td>['action' 'drama' 'thriller']</td>\n    </tr>\n    <tr>\n      <th>12</th>\n      <td>m12</td>\n      <td>airplane ii: the sequel</td>\n      <td>1982</td>\n      <td>5.8</td>\n      <td>15210.0</td>\n      <td>['comedy' 'romance' 'sci-fi']</td>\n    </tr>\n    <tr>\n      <th>13</th>\n      <td>m13</td>\n      <td>airplane!</td>\n      <td>1980</td>\n      <td>7.8</td>\n      <td>57692.0</td>\n      <td>['comedy' 'romance']</td>\n    </tr>\n    <tr>\n      <th>14</th>\n      <td>m14</td>\n      <td>alien nation</td>\n      <td>1988</td>\n      <td>6.1</td>\n      <td>5590.0</td>\n      <td>['crime' 'drama' 'sci-fi' 'thriller']</td>\n    </tr>\n    <tr>\n      <th>15</th>\n      <td>m15</td>\n      <td>aliens</td>\n      <td>1986</td>\n      <td>8.5</td>\n      <td>173518.0</td>\n      <td>['action' 'sci-fi' 'thriller']</td>\n    </tr>\n    <tr>\n      <th>16</th>\n      <td>m16</td>\n      <td>amadeus</td>\n      <td>1984</td>\n      <td>8.4</td>\n      <td>99138.0</td>\n      <td>['biography' 'drama' 'music']</td>\n    </tr>\n    <tr>\n      <th>17</th>\n      <td>m17</td>\n      <td>an american werewolf in london</td>\n      <td>1981</td>\n      <td>7.5</td>\n      <td>24443.0</td>\n      <td>['horror' 'romance']</td>\n    </tr>\n    <tr>\n      <th>18</th>\n      <td>m18</td>\n      <td>american madness</td>\n      <td>1932</td>\n      <td>7.4</td>\n      <td>702.0</td>\n      <td>['drama']</td>\n    </tr>\n    <tr>\n      <th>19</th>\n      <td>m19</td>\n      <td>american outlaws</td>\n      <td>2001</td>\n      <td>5.7</td>\n      <td>7425.0</td>\n      <td>['action' 'western']</td>\n    </tr>\n    <tr>\n      <th>20</th>\n      <td>m20</td>\n      <td>american psycho</td>\n      <td>2000</td>\n      <td>7.4</td>\n      <td>101357.0</td>\n      <td>['drama' 'thriller']</td>\n    </tr>\n    <tr>\n      <th>21</th>\n      <td>m21</td>\n      <td>antitrust</td>\n      <td>2001</td>\n      <td>6.0</td>\n      <td>16453.0</td>\n      <td>['drama' 'thriller']</td>\n    </tr>\n    <tr>\n      <th>22</th>\n      <td>m22</td>\n      <td>austin powers: international man of mystery</td>\n      <td>1997</td>\n      <td>7.1</td>\n      <td>75240.0</td>\n      <td>['action' 'adventure' 'comedy' 'crime']</td>\n    </tr>\n    <tr>\n      <th>23</th>\n      <td>m23</td>\n      <td>the avengers</td>\n      <td>1998</td>\n      <td>3.4</td>\n      <td>21519.0</td>\n      <td>['action' 'adventure' 'thriller']</td>\n    </tr>\n    <tr>\n      <th>24</th>\n      <td>m24</td>\n      <td>bachelor party</td>\n      <td>1984</td>\n      <td>5.9</td>\n      <td>14050.0</td>\n      <td>['comedy' 'romance']</td>\n    </tr>\n    <tr>\n      <th>25</th>\n      <td>m25</td>\n      <td>backdraft</td>\n      <td>1991</td>\n      <td>6.6</td>\n      <td>28541.0</td>\n      <td>['action' 'crime' 'drama' 'mystery' 'thriller']</td>\n    </tr>\n    <tr>\n      <th>26</th>\n      <td>m26</td>\n      <td>bad lieutenant</td>\n      <td>1992</td>\n      <td>6.9</td>\n      <td>13908.0</td>\n      <td>['crime' 'drama']</td>\n    </tr>\n    <tr>\n      <th>27</th>\n      <td>m27</td>\n      <td>bamboozled</td>\n      <td>2000</td>\n      <td>6.3</td>\n      <td>5995.0</td>\n      <td>['comedy' 'drama' 'music']</td>\n    </tr>\n    <tr>\n      <th>28</th>\n      <td>m28</td>\n      <td>barry lyndon</td>\n      <td>1975</td>\n      <td>8.1</td>\n      <td>40622.0</td>\n      <td>['drama' 'romance' 'war']</td>\n    </tr>\n    <tr>\n      <th>29</th>\n      <td>m29</td>\n      <td>basic</td>\n      <td>2003</td>\n      <td>6.3</td>\n      <td>26295.0</td>\n      <td>['crime' 'drama' 'mystery' 'thriller']</td>\n    </tr>\n    <tr>\n      <th>...</th>\n      <td>...</td>\n      <td>...</td>\n      <td>...</td>\n      <td>...</td>\n      <td>...</td>\n      <td>...</td>\n    </tr>\n    <tr>\n      <th>587</th>\n      <td>m587</td>\n      <td>twelve monkeys</td>\n      <td>1995</td>\n      <td>8.1</td>\n      <td>173320.0</td>\n      <td>['mystery' 'sci-fi' 'thriller']</td>\n    </tr>\n    <tr>\n      <th>588</th>\n      <td>m588</td>\n      <td>u-turn</td>\n      <td>1973</td>\n      <td>5.8</td>\n      <td>37.0</td>\n      <td>['drama']</td>\n    </tr>\n    <tr>\n      <th>589</th>\n      <td>m589</td>\n      <td>u turn</td>\n      <td>1997</td>\n      <td>6.7</td>\n      <td>25388.0</td>\n      <td>['crime' 'drama' 'thriller']</td>\n    </tr>\n    <tr>\n      <th>590</th>\n      <td>m590</td>\n      <td>unbreakable</td>\n      <td>2000</td>\n      <td>7.3</td>\n      <td>98767.0</td>\n      <td>['drama' 'fantasy' 'mystery' 'thriller']</td>\n    </tr>\n    <tr>\n      <th>591</th>\n      <td>m591</td>\n      <td>unforgiven</td>\n      <td>1992</td>\n      <td>8.3</td>\n      <td>101270.0</td>\n      <td>['drama' 'western']</td>\n    </tr>\n    <tr>\n      <th>592</th>\n      <td>m592</td>\n      <td>the usual suspects</td>\n      <td>1995</td>\n      <td>8.7</td>\n      <td>272137.0</td>\n      <td>['crime' 'mystery' 'thriller']</td>\n    </tr>\n    <tr>\n      <th>593</th>\n      <td>m593</td>\n      <td>verdict</td>\n      <td>1974</td>\n      <td>5.7</td>\n      <td>135.0</td>\n      <td>['drama']</td>\n    </tr>\n    <tr>\n      <th>594</th>\n      <td>m594</td>\n      <td>vertigo</td>\n      <td>1958</td>\n      <td>8.6</td>\n      <td>93524.0</td>\n      <td>['crime' 'mystery' 'romance' 'thriller']</td>\n    </tr>\n    <tr>\n      <th>595</th>\n      <td>m595</td>\n      <td>very bad things</td>\n      <td>1998</td>\n      <td>6.0</td>\n      <td>22977.0</td>\n      <td>['comedy' 'crime' 'thriller']</td>\n    </tr>\n    <tr>\n      <th>596</th>\n      <td>m596</td>\n      <td>viridiana</td>\n      <td>1961</td>\n      <td>8.2</td>\n      <td>6288.0</td>\n      <td>['drama']</td>\n    </tr>\n    <tr>\n      <th>597</th>\n      <td>m597</td>\n      <td>virtuosity</td>\n      <td>1995</td>\n      <td>5.3</td>\n      <td>11191.0</td>\n      <td>['action' 'crime' 'sci-fi' 'thriller']</td>\n    </tr>\n    <tr>\n      <th>598</th>\n      <td>m598</td>\n      <td>wag the dog</td>\n      <td>1997</td>\n      <td>7.1</td>\n      <td>36448.0</td>\n      <td>['comedy' 'drama']</td>\n    </tr>\n    <tr>\n      <th>599</th>\n      <td>m599</td>\n      <td>wall street</td>\n      <td>1987</td>\n      <td>7.3</td>\n      <td>39082.0</td>\n      <td>['crime' 'drama']</td>\n    </tr>\n    <tr>\n      <th>600</th>\n      <td>m600</td>\n      <td>waxwork</td>\n      <td>1988</td>\n      <td>6.0</td>\n      <td>2596.0</td>\n      <td>['comedy' 'fantasy' 'horror']</td>\n    </tr>\n    <tr>\n      <th>601</th>\n      <td>m601</td>\n      <td>what lies beneath</td>\n      <td>2000</td>\n      <td>6.5</td>\n      <td>46195.0</td>\n      <td>['drama' 'horror' 'mystery' 'thriller']</td>\n    </tr>\n    <tr>\n      <th>602</th>\n      <td>m602</td>\n      <td>what women want</td>\n      <td>2000</td>\n      <td>6.3</td>\n      <td>55269.0</td>\n      <td>['comedy' 'fantasy' 'romance']</td>\n    </tr>\n    <tr>\n      <th>603</th>\n      <td>m603</td>\n      <td>the witching hour</td>\n      <td>1996</td>\n      <td>6.5</td>\n      <td>69.0</td>\n      <td>['documentary' 'short']</td>\n    </tr>\n    <tr>\n      <th>604</th>\n      <td>m604</td>\n      <td>white angel</td>\n      <td>1994</td>\n      <td>4.4</td>\n      <td>99.0</td>\n      <td>['drama' 'thriller']</td>\n    </tr>\n    <tr>\n      <th>605</th>\n      <td>m605</td>\n      <td>who's your daddy?</td>\n      <td>2003/I</td>\n      <td>4.5</td>\n      <td>2267.0</td>\n      <td>['comedy']</td>\n    </tr>\n    <tr>\n      <th>606</th>\n      <td>m606</td>\n      <td>wild things</td>\n      <td>1998</td>\n      <td>6.6</td>\n      <td>40523.0</td>\n      <td>['crime' 'mystery' 'thriller']</td>\n    </tr>\n    <tr>\n      <th>607</th>\n      <td>m607</td>\n      <td>wild wild west</td>\n      <td>1999</td>\n      <td>4.3</td>\n      <td>54943.0</td>\n      <td>['action' 'western' 'comedy' 'sci-fi']</td>\n    </tr>\n    <tr>\n      <th>608</th>\n      <td>m608</td>\n      <td>willow</td>\n      <td>1988</td>\n      <td>7.1</td>\n      <td>33506.0</td>\n      <td>['action' 'adventure' 'drama' 'fantasy' 'roman...</td>\n    </tr>\n    <tr>\n      <th>609</th>\n      <td>m609</td>\n      <td>witness</td>\n      <td>1985</td>\n      <td>7.6</td>\n      <td>30705.0</td>\n      <td>['drama' 'romance' 'thriller']</td>\n    </tr>\n    <tr>\n      <th>610</th>\n      <td>m610</td>\n      <td>the wizard of oz</td>\n      <td>1939</td>\n      <td>8.3</td>\n      <td>104873.0</td>\n      <td>['adventure' 'family' 'fantasy' 'musical']</td>\n    </tr>\n    <tr>\n      <th>611</th>\n      <td>m611</td>\n      <td>the world is not enough</td>\n      <td>1999</td>\n      <td>6.3</td>\n      <td>60047.0</td>\n      <td>['action' 'adventure' 'thriller']</td>\n    </tr>\n    <tr>\n      <th>612</th>\n      <td>m612</td>\n      <td>watchmen</td>\n      <td>2009</td>\n      <td>7.8</td>\n      <td>135229.0</td>\n      <td>['action' 'crime' 'fantasy' 'mystery' 'sci-fi'...</td>\n    </tr>\n    <tr>\n      <th>613</th>\n      <td>m613</td>\n      <td>xxx</td>\n      <td>2002</td>\n      <td>5.6</td>\n      <td>53505.0</td>\n      <td>['action' 'adventure' 'crime']</td>\n    </tr>\n    <tr>\n      <th>614</th>\n      <td>m614</td>\n      <td>x-men</td>\n      <td>2000</td>\n      <td>7.4</td>\n      <td>122149.0</td>\n      <td>['action' 'sci-fi']</td>\n    </tr>\n    <tr>\n      <th>615</th>\n      <td>m615</td>\n      <td>young frankenstein</td>\n      <td>1974</td>\n      <td>8.0</td>\n      <td>57618.0</td>\n      <td>['comedy' 'sci-fi']</td>\n    </tr>\n    <tr>\n      <th>616</th>\n      <td>m616</td>\n      <td>zulu dawn</td>\n      <td>1979</td>\n      <td>6.4</td>\n      <td>1911.0</td>\n      <td>['action' 'adventure' 'drama' 'history' 'war']</td>\n    </tr>\n  </tbody>\n</table>\n<p>617 rows × 6 columns</p>\n</div>",
      "text/plain": [
       "       ID                                          Title    Year  IMDB Rating  \\\n",
       "0      m0                     10 things i hate about you    1999          6.9   \n",
       "1      m1                     1492: conquest of paradise    1992          6.2   \n",
       "2      m2                                     15 minutes    2001          6.1   \n",
       "3      m3                          2001: a space odyssey    1968          8.4   \n",
       "4      m4                                        48 hrs.    1982          6.9   \n",
       "5      m5                              the fifth element    1997          7.5   \n",
       "6      m6                                            8mm    1999          6.3   \n",
       "7      m7  a nightmare on elm street 4: the dream master    1988          5.2   \n",
       "8      m8     a nightmare on elm street: the dream child    1989          4.7   \n",
       "9      m9                           the atomic submarine    1959          4.9   \n",
       "10    m10                                     affliction    1997          6.9   \n",
       "11    m11                                  air force one    1997          6.3   \n",
       "12    m12                        airplane ii: the sequel    1982          5.8   \n",
       "13    m13                                      airplane!    1980          7.8   \n",
       "14    m14                                   alien nation    1988          6.1   \n",
       "15    m15                                         aliens    1986          8.5   \n",
       "16    m16                                        amadeus    1984          8.4   \n",
       "17    m17                 an american werewolf in london    1981          7.5   \n",
       "18    m18                               american madness    1932          7.4   \n",
       "19    m19                               american outlaws    2001          5.7   \n",
       "20    m20                                american psycho    2000          7.4   \n",
       "21    m21                                      antitrust    2001          6.0   \n",
       "22    m22    austin powers: international man of mystery    1997          7.1   \n",
       "23    m23                                   the avengers    1998          3.4   \n",
       "24    m24                                 bachelor party    1984          5.9   \n",
       "25    m25                                      backdraft    1991          6.6   \n",
       "26    m26                                 bad lieutenant    1992          6.9   \n",
       "27    m27                                     bamboozled    2000          6.3   \n",
       "28    m28                                   barry lyndon    1975          8.1   \n",
       "29    m29                                          basic    2003          6.3   \n",
       "..    ...                                            ...     ...          ...   \n",
       "587  m587                                 twelve monkeys    1995          8.1   \n",
       "588  m588                                         u-turn    1973          5.8   \n",
       "589  m589                                         u turn    1997          6.7   \n",
       "590  m590                                    unbreakable    2000          7.3   \n",
       "591  m591                                     unforgiven    1992          8.3   \n",
       "592  m592                             the usual suspects    1995          8.7   \n",
       "593  m593                                        verdict    1974          5.7   \n",
       "594  m594                                        vertigo    1958          8.6   \n",
       "595  m595                                very bad things    1998          6.0   \n",
       "596  m596                                      viridiana    1961          8.2   \n",
       "597  m597                                     virtuosity    1995          5.3   \n",
       "598  m598                                    wag the dog    1997          7.1   \n",
       "599  m599                                    wall street    1987          7.3   \n",
       "600  m600                                        waxwork    1988          6.0   \n",
       "601  m601                              what lies beneath    2000          6.5   \n",
       "602  m602                                what women want    2000          6.3   \n",
       "603  m603                              the witching hour    1996          6.5   \n",
       "604  m604                                    white angel    1994          4.4   \n",
       "605  m605                              who's your daddy?  2003/I          4.5   \n",
       "606  m606                                    wild things    1998          6.6   \n",
       "607  m607                                 wild wild west    1999          4.3   \n",
       "608  m608                                         willow    1988          7.1   \n",
       "609  m609                                        witness    1985          7.6   \n",
       "610  m610                               the wizard of oz    1939          8.3   \n",
       "611  m611                        the world is not enough    1999          6.3   \n",
       "612  m612                                       watchmen    2009          7.8   \n",
       "613  m613                                            xxx    2002          5.6   \n",
       "614  m614                                          x-men    2000          7.4   \n",
       "615  m615                             young frankenstein    1974          8.0   \n",
       "616  m616                                      zulu dawn    1979          6.4   \n",
       "\n",
       "        Votes                                             Genres  \n",
       "0     62847.0                               ['comedy' 'romance']  \n",
       "1     10421.0        ['adventure' 'biography' 'drama' 'history']  \n",
       "2     25854.0              ['action' 'crime' 'drama' 'thriller']  \n",
       "3    163227.0                   ['adventure' 'mystery' 'sci-fi']  \n",
       "4     22289.0     ['action' 'comedy' 'crime' 'drama' 'thriller']  \n",
       "5    133756.0  ['action' 'adventure' 'romance' 'sci-fi' 'thri...  \n",
       "6     48212.0                     ['crime' 'mystery' 'thriller']  \n",
       "7     13590.0                    ['fantasy' 'horror' 'thriller']  \n",
       "8     11092.0                    ['fantasy' 'horror' 'thriller']  \n",
       "9       513.0                              ['sci-fi' 'thriller']  \n",
       "10     7252.0                     ['drama' 'mystery' 'thriller']  \n",
       "11    61978.0                      ['action' 'drama' 'thriller']  \n",
       "12    15210.0                      ['comedy' 'romance' 'sci-fi']  \n",
       "13    57692.0                               ['comedy' 'romance']  \n",
       "14     5590.0              ['crime' 'drama' 'sci-fi' 'thriller']  \n",
       "15   173518.0                     ['action' 'sci-fi' 'thriller']  \n",
       "16    99138.0                      ['biography' 'drama' 'music']  \n",
       "17    24443.0                               ['horror' 'romance']  \n",
       "18      702.0                                          ['drama']  \n",
       "19     7425.0                               ['action' 'western']  \n",
       "20   101357.0                               ['drama' 'thriller']  \n",
       "21    16453.0                               ['drama' 'thriller']  \n",
       "22    75240.0            ['action' 'adventure' 'comedy' 'crime']  \n",
       "23    21519.0                  ['action' 'adventure' 'thriller']  \n",
       "24    14050.0                               ['comedy' 'romance']  \n",
       "25    28541.0    ['action' 'crime' 'drama' 'mystery' 'thriller']  \n",
       "26    13908.0                                  ['crime' 'drama']  \n",
       "27     5995.0                         ['comedy' 'drama' 'music']  \n",
       "28    40622.0                          ['drama' 'romance' 'war']  \n",
       "29    26295.0             ['crime' 'drama' 'mystery' 'thriller']  \n",
       "..        ...                                                ...  \n",
       "587  173320.0                    ['mystery' 'sci-fi' 'thriller']  \n",
       "588      37.0                                          ['drama']  \n",
       "589   25388.0                       ['crime' 'drama' 'thriller']  \n",
       "590   98767.0           ['drama' 'fantasy' 'mystery' 'thriller']  \n",
       "591  101270.0                                ['drama' 'western']  \n",
       "592  272137.0                     ['crime' 'mystery' 'thriller']  \n",
       "593     135.0                                          ['drama']  \n",
       "594   93524.0           ['crime' 'mystery' 'romance' 'thriller']  \n",
       "595   22977.0                      ['comedy' 'crime' 'thriller']  \n",
       "596    6288.0                                          ['drama']  \n",
       "597   11191.0             ['action' 'crime' 'sci-fi' 'thriller']  \n",
       "598   36448.0                                 ['comedy' 'drama']  \n",
       "599   39082.0                                  ['crime' 'drama']  \n",
       "600    2596.0                      ['comedy' 'fantasy' 'horror']  \n",
       "601   46195.0            ['drama' 'horror' 'mystery' 'thriller']  \n",
       "602   55269.0                     ['comedy' 'fantasy' 'romance']  \n",
       "603      69.0                            ['documentary' 'short']  \n",
       "604      99.0                               ['drama' 'thriller']  \n",
       "605    2267.0                                         ['comedy']  \n",
       "606   40523.0                     ['crime' 'mystery' 'thriller']  \n",
       "607   54943.0             ['action' 'western' 'comedy' 'sci-fi']  \n",
       "608   33506.0  ['action' 'adventure' 'drama' 'fantasy' 'roman...  \n",
       "609   30705.0                     ['drama' 'romance' 'thriller']  \n",
       "610  104873.0         ['adventure' 'family' 'fantasy' 'musical']  \n",
       "611   60047.0                  ['action' 'adventure' 'thriller']  \n",
       "612  135229.0  ['action' 'crime' 'fantasy' 'mystery' 'sci-fi'...  \n",
       "613   53505.0                     ['action' 'adventure' 'crime']  \n",
       "614  122149.0                                ['action' 'sci-fi']  \n",
       "615   57618.0                                ['comedy' 'sci-fi']  \n",
       "616    1911.0     ['action' 'adventure' 'drama' 'history' 'war']  \n",
       "\n",
       "[617 rows x 6 columns]"
      ]
     },
     "metadata": {},
     "execution_count": 6
    }
   ],
   "source": [
    "movies_df"
   ]
  },
  {
   "source": [
    "### Exporting movie lines dataset as CSV"
   ],
   "cell_type": "markdown",
   "metadata": {}
  },
  {
   "cell_type": "code",
   "execution_count": 5,
   "metadata": {},
   "outputs": [],
   "source": [
    "# line_ids = []\n",
    "# char_ids = []\n",
    "# movie_ids = []\n",
    "# chars = []\n",
    "# lines = []\n",
    "# dialogue_path = 'dialogue_data/movie_lines.tsv'\n",
    "# with open(dialogue_path) as f:\n",
    "#     for curr in f:\n",
    "#         L = curr.index('L')\n",
    "#         U = curr.index('u')\n",
    "#         M = curr.index('m')\n",
    "#         C = curr.index('\\t', M+1)\n",
    "#         S = curr.index('\\t', C+1)\n",
    "#         line_id = curr[L:U].strip()\n",
    "#         char_id = curr[U:M].strip()\n",
    "#         movie_id = curr[M:C].strip()\n",
    "#         char = curr[C:S].strip()\n",
    "#         line = curr[S:].strip()\n",
    "\n",
    "#         line_ids.append(line_id)\n",
    "#         char_ids.append(char_id)\n",
    "#         movie_ids.append(movie_id)\n",
    "#         chars.append(char)\n",
    "#         lines.append(line)\n",
    "#         if len(line_ids)%1000==0:\n",
    "#             print(len(line_ids))\n",
    "\n",
    "# lines_df = lines_df.from_dict({'Line ID':line_ids, 'Character ID':char_ids, 'Movie ID':movie_ids,'Character':chars, 'Line':lines})\n"
   ]
  },
  {
   "cell_type": "code",
   "execution_count": 6,
   "metadata": {},
   "outputs": [
    {
     "output_type": "error",
     "ename": "NameError",
     "evalue": "name 'lines_df' is not defined",
     "traceback": [
      "\u001b[0;31m\u001b[0m",
      "\u001b[0;31mNameError\u001b[0mTraceback (most recent call last)",
      "\u001b[0;32m<ipython-input-6-09be4d73eed8>\u001b[0m in \u001b[0;36m<module>\u001b[0;34m()\u001b[0m\n\u001b[0;32m----> 1\u001b[0;31m \u001b[0mlines_df\u001b[0m\u001b[0;34m.\u001b[0m\u001b[0mto_csv\u001b[0m\u001b[0;34m(\u001b[0m\u001b[0;34m'movie_lines_cleaned.csv'\u001b[0m\u001b[0;34m)\u001b[0m\u001b[0;34m\u001b[0m\u001b[0m\n\u001b[0m",
      "\u001b[0;31mNameError\u001b[0m: name 'lines_df' is not defined"
     ]
    }
   ],
   "source": [
    "# lines_df.to_csv('movie_lines_cleaned.csv')"
   ]
  },
  {
   "source": [
    "### Movies character metadata"
   ],
   "cell_type": "markdown",
   "metadata": {}
  },
  {
   "cell_type": "code",
   "execution_count": 7,
   "metadata": {},
   "outputs": [],
   "source": [
    "lines_df = pd.read_csv('data_cleaned_merged/movie_lines_cleaned.csv')"
   ]
  },
  {
   "cell_type": "code",
   "execution_count": 8,
   "metadata": {},
   "outputs": [],
   "source": [
    "char_path = 'dialogue_data/movie_characters_metadata.tsv'\n",
    "char_df = pd.read_csv(char_path, sep='\\t', header=None)\n",
    "char_df.rename(columns={0:'Character ID', 1:'Character', 2:'Movie ID', 3:'Title', 4:'Gender', 5:'Position in Credits'}, inplace=True)\n",
    "char_df.Gender = char_df.Gender.str.lower()"
   ]
  },
  {
   "cell_type": "code",
   "execution_count": 9,
   "metadata": {},
   "outputs": [
    {
     "output_type": "execute_result",
     "data": {
      "text/html": "<div>\n<style scoped>\n    .dataframe tbody tr th:only-of-type {\n        vertical-align: middle;\n    }\n\n    .dataframe tbody tr th {\n        vertical-align: top;\n    }\n\n    .dataframe thead th {\n        text-align: right;\n    }\n</style>\n<table border=\"1\" class=\"dataframe\">\n  <thead>\n    <tr style=\"text-align: right;\">\n      <th></th>\n      <th>Character ID</th>\n      <th>Character</th>\n      <th>Movie ID</th>\n      <th>Title</th>\n      <th>Gender</th>\n      <th>Position in Credits</th>\n    </tr>\n  </thead>\n  <tbody>\n    <tr>\n      <th>0</th>\n      <td>u0</td>\n      <td>BIANCA</td>\n      <td>m0</td>\n      <td>10 things i hate about you</td>\n      <td>f</td>\n      <td>4</td>\n    </tr>\n    <tr>\n      <th>1</th>\n      <td>u1</td>\n      <td>BRUCE</td>\n      <td>m0</td>\n      <td>10 things i hate about you</td>\n      <td>?</td>\n      <td>?</td>\n    </tr>\n    <tr>\n      <th>2</th>\n      <td>u2</td>\n      <td>CAMERON</td>\n      <td>m0</td>\n      <td>10 things i hate about you</td>\n      <td>m</td>\n      <td>3</td>\n    </tr>\n    <tr>\n      <th>3</th>\n      <td>u3</td>\n      <td>CHASTITY</td>\n      <td>m0</td>\n      <td>10 things i hate about you</td>\n      <td>?</td>\n      <td>?</td>\n    </tr>\n    <tr>\n      <th>4</th>\n      <td>u4</td>\n      <td>JOEY</td>\n      <td>m0</td>\n      <td>10 things i hate about you</td>\n      <td>m</td>\n      <td>6</td>\n    </tr>\n  </tbody>\n</table>\n</div>",
      "text/plain": [
       "  Character ID Character Movie ID                       Title Gender  \\\n",
       "0           u0    BIANCA       m0  10 things i hate about you      f   \n",
       "1           u1     BRUCE       m0  10 things i hate about you      ?   \n",
       "2           u2   CAMERON       m0  10 things i hate about you      m   \n",
       "3           u3  CHASTITY       m0  10 things i hate about you      ?   \n",
       "4           u4      JOEY       m0  10 things i hate about you      m   \n",
       "\n",
       "  Position in Credits  \n",
       "0                   4  \n",
       "1                   ?  \n",
       "2                   3  \n",
       "3                   ?  \n",
       "4                   6  "
      ]
     },
     "metadata": {},
     "execution_count": 9
    }
   ],
   "source": [
    "char_df.head()"
   ]
  },
  {
   "source": [
    "### Merging character metadata w/ lines data"
   ],
   "cell_type": "markdown",
   "metadata": {}
  },
  {
   "cell_type": "code",
   "execution_count": 10,
   "metadata": {},
   "outputs": [],
   "source": [
    "merged = lines_df.merge(char_df, on=['Character ID','Movie ID'], how='inner', suffixes=['1','2'])\n",
    "merged.Gender=merged.Gender.str.lower()"
   ]
  },
  {
   "cell_type": "code",
   "execution_count": 11,
   "metadata": {},
   "outputs": [],
   "source": [
    "merged = merged.dropna()"
   ]
  },
  {
   "cell_type": "code",
   "execution_count": 12,
   "metadata": {},
   "outputs": [],
   "source": [
    "merged.to_csv('data_cleaned_merged/movie_lines_with_characters.csv')"
   ]
  },
  {
   "source": [
    "### Female vs. Male Presence in Credits & Lines"
   ],
   "cell_type": "markdown",
   "metadata": {}
  },
  {
   "cell_type": "code",
   "execution_count": 13,
   "metadata": {},
   "outputs": [
    {
     "output_type": "stream",
     "name": "stdout",
     "text": [
      "Female lines: 71134\nMale lines: 170200\nUnk gender lines: 62480\n"
     ]
    }
   ],
   "source": [
    "print('Female lines: ' + str(len(merged[merged.Gender =='f'])))\n",
    "print('Male lines: ' + str(len(merged[merged.Gender =='m'])))\n",
    "print('Unk gender lines: ' + str(len(merged[merged.Gender =='?'])))"
   ]
  },
  {
   "cell_type": "code",
   "execution_count": 14,
   "metadata": {},
   "outputs": [
    {
     "output_type": "stream",
     "name": "stdout",
     "text": [
      "#1 Male Characters: 408\n#1 Female Characters: 89\n#1 Unk Characters: 0\n#2 Male Characters: 232\n#2 Female Characters: 211\n#2 Unk Characters: 0\n#3 Male Characters: 232\n#3 Female Characters: 120\n#3 Unk Characters: 0\n#4 Male Characters: 185\n#4 Female Characters: 83\n#4 Unk Characters: 0\n#5 Male Characters: 159\n#5 Female Characters: 52\n#5 Unk Characters: 0\n#6 Male Characters: 123\n#6 Female Characters: 46\n#6 Unk Characters: 0\n#7 Male Characters: 86\n#7 Female Characters: 39\n#7 Unk Characters: 0\n#8 Male Characters: 65\n#8 Female Characters: 35\n#8 Unk Characters: 0\n#9 Male Characters: 51\n#9 Female Characters: 28\n#9 Unk Characters: 0\n#10 Male Characters: 32\n#10 Female Characters: 22\n#10 Unk Characters: 0\n"
     ]
    }
   ],
   "source": [
    "for i in range(1,11):\n",
    "    filter = char_df[\"Position in Credits\"]==str(i)\n",
    "    pos = char_df.where(filter, inplace=False).dropna()\n",
    "    print('#' + str(i) + ' Male Characters: ' + str(len(pos[pos.Gender == 'm'])))\n",
    "    print('#' + str(i) + ' Female Characters: ' + str(len(pos[pos.Gender == 'f'])))\n",
    "    print('#' + str(i) + ' Unk Characters: ' + str(len(pos[pos.Gender == '?']) + len(pos[pos.Gender == np.NaN] )))"
   ]
  },
  {
   "cell_type": "code",
   "execution_count": 15,
   "metadata": {},
   "outputs": [],
   "source": [
    "merged['Length'] = merged['Line'].apply(lambda d: d.split())"
   ]
  },
  {
   "cell_type": "code",
   "execution_count": 17,
   "metadata": {},
   "outputs": [
    {
     "output_type": "execute_result",
     "data": {
      "text/html": "<div>\n<style scoped>\n    .dataframe tbody tr th:only-of-type {\n        vertical-align: middle;\n    }\n\n    .dataframe tbody tr th {\n        vertical-align: top;\n    }\n\n    .dataframe thead th {\n        text-align: right;\n    }\n</style>\n<table border=\"1\" class=\"dataframe\">\n  <thead>\n    <tr style=\"text-align: right;\">\n      <th></th>\n      <th>Unnamed: 0</th>\n    </tr>\n    <tr>\n      <th>Gender</th>\n      <th></th>\n    </tr>\n  </thead>\n  <tbody>\n    <tr>\n      <th>?</th>\n      <td>9582114327</td>\n    </tr>\n    <tr>\n      <th>f</th>\n      <td>10998298267</td>\n    </tr>\n    <tr>\n      <th>m</th>\n      <td>25663706555</td>\n    </tr>\n  </tbody>\n</table>\n</div>",
      "text/plain": [
       "         Unnamed: 0\n",
       "Gender             \n",
       "?        9582114327\n",
       "f       10998298267\n",
       "m       25663706555"
      ]
     },
     "metadata": {},
     "execution_count": 17
    }
   ],
   "source": [
    "# Total length of lines by gender\n",
    "merged.groupby('Gender').sum()"
   ]
  },
  {
   "cell_type": "code",
   "execution_count": 18,
   "metadata": {},
   "outputs": [
    {
     "output_type": "execute_result",
     "data": {
      "text/html": "<div>\n<style scoped>\n    .dataframe tbody tr th:only-of-type {\n        vertical-align: middle;\n    }\n\n    .dataframe tbody tr th {\n        vertical-align: top;\n    }\n\n    .dataframe thead th {\n        text-align: right;\n    }\n</style>\n<table border=\"1\" class=\"dataframe\">\n  <thead>\n    <tr style=\"text-align: right;\">\n      <th></th>\n      <th>Unnamed: 0</th>\n    </tr>\n    <tr>\n      <th>Gender</th>\n      <th></th>\n    </tr>\n  </thead>\n  <tbody>\n    <tr>\n      <th>?</th>\n      <td>153362.905362</td>\n    </tr>\n    <tr>\n      <th>f</th>\n      <td>154613.803062</td>\n    </tr>\n    <tr>\n      <th>m</th>\n      <td>150785.584929</td>\n    </tr>\n  </tbody>\n</table>\n</div>",
      "text/plain": [
       "           Unnamed: 0\n",
       "Gender               \n",
       "?       153362.905362\n",
       "f       154613.803062\n",
       "m       150785.584929"
      ]
     },
     "metadata": {},
     "execution_count": 18
    }
   ],
   "source": [
    "# Avg length of lines by gender\n",
    "merged.groupby('Gender').mean()"
   ]
  },
  {
   "cell_type": "code",
   "execution_count": 28,
   "metadata": {},
   "outputs": [],
   "source": [
    "merged_all = movies_df.merge(merged, on=['Title'], how='inner')"
   ]
  },
  {
   "cell_type": "code",
   "execution_count": 30,
   "metadata": {},
   "outputs": [],
   "source": [
    "merged_all.to_csv('data_cleaned_merged/movie_lines_with_all_metadata.csv')"
   ]
  },
  {
   "cell_type": "code",
   "execution_count": 73,
   "metadata": {},
   "outputs": [],
   "source": [
    "male_line_count = male_line_count[['Line']]\n",
    "female_line_count = female_line_count[['Line']]\n",
    "male_line_count.rename(columns={'Line':'Male_Lines'}, inplace=True)\n",
    "female_line_count.rename(columns={'Line':'Female_Lines'}, inplace=True)"
   ]
  },
  {
   "cell_type": "code",
   "execution_count": 75,
   "metadata": {},
   "outputs": [],
   "source": [
    "line_pct_by_gender = female_line_count.merge(male_line_count, on='Movie ID')"
   ]
  },
  {
   "cell_type": "code",
   "execution_count": 78,
   "metadata": {},
   "outputs": [],
   "source": [
    "line_pct_by_gender['Total_Lines'] = line_pct_by_gender['Female_Lines'] + line_pct_by_gender['Male_Lines']\n",
    "line_pct_by_gender['Female_Percent'] = line_pct_by_gender['Female_Lines']/line_pct_by_gender['Total_Lines'] \n",
    "line_pct_by_gender['Male_Percent'] = line_pct_by_gender['Male_Lines']/line_pct_by_gender['Total_Lines'] \n"
   ]
  },
  {
   "cell_type": "code",
   "execution_count": 79,
   "metadata": {},
   "outputs": [
    {
     "output_type": "execute_result",
     "data": {
      "text/html": "<div>\n<style scoped>\n    .dataframe tbody tr th:only-of-type {\n        vertical-align: middle;\n    }\n\n    .dataframe tbody tr th {\n        vertical-align: top;\n    }\n\n    .dataframe thead th {\n        text-align: right;\n    }\n</style>\n<table border=\"1\" class=\"dataframe\">\n  <thead>\n    <tr style=\"text-align: right;\">\n      <th></th>\n      <th>Female_Lines</th>\n      <th>Male_Lines</th>\n      <th>Total_Lines</th>\n      <th>Female_Percent</th>\n      <th>Male_Percent</th>\n    </tr>\n    <tr>\n      <th>Movie ID</th>\n      <th></th>\n      <th></th>\n      <th></th>\n      <th></th>\n      <th></th>\n    </tr>\n  </thead>\n  <tbody>\n    <tr>\n      <th>m0</th>\n      <td>277</td>\n      <td>359</td>\n      <td>636</td>\n      <td>0.435535</td>\n      <td>0.564465</td>\n    </tr>\n    <tr>\n      <th>m10</th>\n      <td>104</td>\n      <td>441</td>\n      <td>545</td>\n      <td>0.190826</td>\n      <td>0.809174</td>\n    </tr>\n    <tr>\n      <th>m100</th>\n      <td>149</td>\n      <td>775</td>\n      <td>924</td>\n      <td>0.161255</td>\n      <td>0.838745</td>\n    </tr>\n    <tr>\n      <th>m101</th>\n      <td>42</td>\n      <td>452</td>\n      <td>494</td>\n      <td>0.085020</td>\n      <td>0.914980</td>\n    </tr>\n    <tr>\n      <th>m102</th>\n      <td>233</td>\n      <td>353</td>\n      <td>586</td>\n      <td>0.397611</td>\n      <td>0.602389</td>\n    </tr>\n    <tr>\n      <th>m103</th>\n      <td>360</td>\n      <td>362</td>\n      <td>722</td>\n      <td>0.498615</td>\n      <td>0.501385</td>\n    </tr>\n    <tr>\n      <th>m104</th>\n      <td>77</td>\n      <td>500</td>\n      <td>577</td>\n      <td>0.133449</td>\n      <td>0.866551</td>\n    </tr>\n    <tr>\n      <th>m105</th>\n      <td>423</td>\n      <td>761</td>\n      <td>1184</td>\n      <td>0.357264</td>\n      <td>0.642736</td>\n    </tr>\n    <tr>\n      <th>m106</th>\n      <td>146</td>\n      <td>450</td>\n      <td>596</td>\n      <td>0.244966</td>\n      <td>0.755034</td>\n    </tr>\n    <tr>\n      <th>m107</th>\n      <td>29</td>\n      <td>42</td>\n      <td>71</td>\n      <td>0.408451</td>\n      <td>0.591549</td>\n    </tr>\n    <tr>\n      <th>m108</th>\n      <td>34</td>\n      <td>337</td>\n      <td>371</td>\n      <td>0.091644</td>\n      <td>0.908356</td>\n    </tr>\n    <tr>\n      <th>m109</th>\n      <td>456</td>\n      <td>173</td>\n      <td>629</td>\n      <td>0.724960</td>\n      <td>0.275040</td>\n    </tr>\n    <tr>\n      <th>m110</th>\n      <td>141</td>\n      <td>157</td>\n      <td>298</td>\n      <td>0.473154</td>\n      <td>0.526846</td>\n    </tr>\n    <tr>\n      <th>m111</th>\n      <td>135</td>\n      <td>271</td>\n      <td>406</td>\n      <td>0.332512</td>\n      <td>0.667488</td>\n    </tr>\n    <tr>\n      <th>m112</th>\n      <td>167</td>\n      <td>420</td>\n      <td>587</td>\n      <td>0.284497</td>\n      <td>0.715503</td>\n    </tr>\n    <tr>\n      <th>m113</th>\n      <td>57</td>\n      <td>280</td>\n      <td>337</td>\n      <td>0.169139</td>\n      <td>0.830861</td>\n    </tr>\n    <tr>\n      <th>m114</th>\n      <td>98</td>\n      <td>83</td>\n      <td>181</td>\n      <td>0.541436</td>\n      <td>0.458564</td>\n    </tr>\n    <tr>\n      <th>m115</th>\n      <td>64</td>\n      <td>154</td>\n      <td>218</td>\n      <td>0.293578</td>\n      <td>0.706422</td>\n    </tr>\n    <tr>\n      <th>m116</th>\n      <td>114</td>\n      <td>112</td>\n      <td>226</td>\n      <td>0.504425</td>\n      <td>0.495575</td>\n    </tr>\n    <tr>\n      <th>m117</th>\n      <td>277</td>\n      <td>93</td>\n      <td>370</td>\n      <td>0.748649</td>\n      <td>0.251351</td>\n    </tr>\n    <tr>\n      <th>m118</th>\n      <td>147</td>\n      <td>548</td>\n      <td>695</td>\n      <td>0.211511</td>\n      <td>0.788489</td>\n    </tr>\n    <tr>\n      <th>m119</th>\n      <td>224</td>\n      <td>462</td>\n      <td>686</td>\n      <td>0.326531</td>\n      <td>0.673469</td>\n    </tr>\n    <tr>\n      <th>m12</th>\n      <td>71</td>\n      <td>95</td>\n      <td>166</td>\n      <td>0.427711</td>\n      <td>0.572289</td>\n    </tr>\n    <tr>\n      <th>m121</th>\n      <td>60</td>\n      <td>216</td>\n      <td>276</td>\n      <td>0.217391</td>\n      <td>0.782609</td>\n    </tr>\n    <tr>\n      <th>m122</th>\n      <td>127</td>\n      <td>268</td>\n      <td>395</td>\n      <td>0.321519</td>\n      <td>0.678481</td>\n    </tr>\n    <tr>\n      <th>m123</th>\n      <td>106</td>\n      <td>218</td>\n      <td>324</td>\n      <td>0.327160</td>\n      <td>0.672840</td>\n    </tr>\n    <tr>\n      <th>m124</th>\n      <td>29</td>\n      <td>577</td>\n      <td>606</td>\n      <td>0.047855</td>\n      <td>0.952145</td>\n    </tr>\n    <tr>\n      <th>m125</th>\n      <td>29</td>\n      <td>288</td>\n      <td>317</td>\n      <td>0.091483</td>\n      <td>0.908517</td>\n    </tr>\n    <tr>\n      <th>m126</th>\n      <td>101</td>\n      <td>480</td>\n      <td>581</td>\n      <td>0.173838</td>\n      <td>0.826162</td>\n    </tr>\n    <tr>\n      <th>m127</th>\n      <td>30</td>\n      <td>709</td>\n      <td>739</td>\n      <td>0.040595</td>\n      <td>0.959405</td>\n    </tr>\n    <tr>\n      <th>...</th>\n      <td>...</td>\n      <td>...</td>\n      <td>...</td>\n      <td>...</td>\n      <td>...</td>\n    </tr>\n    <tr>\n      <th>m69</th>\n      <td>56</td>\n      <td>337</td>\n      <td>393</td>\n      <td>0.142494</td>\n      <td>0.857506</td>\n    </tr>\n    <tr>\n      <th>m7</th>\n      <td>54</td>\n      <td>29</td>\n      <td>83</td>\n      <td>0.650602</td>\n      <td>0.349398</td>\n    </tr>\n    <tr>\n      <th>m70</th>\n      <td>85</td>\n      <td>587</td>\n      <td>672</td>\n      <td>0.126488</td>\n      <td>0.873512</td>\n    </tr>\n    <tr>\n      <th>m71</th>\n      <td>124</td>\n      <td>427</td>\n      <td>551</td>\n      <td>0.225045</td>\n      <td>0.774955</td>\n    </tr>\n    <tr>\n      <th>m72</th>\n      <td>659</td>\n      <td>239</td>\n      <td>898</td>\n      <td>0.733853</td>\n      <td>0.266147</td>\n    </tr>\n    <tr>\n      <th>m74</th>\n      <td>95</td>\n      <td>310</td>\n      <td>405</td>\n      <td>0.234568</td>\n      <td>0.765432</td>\n    </tr>\n    <tr>\n      <th>m75</th>\n      <td>59</td>\n      <td>289</td>\n      <td>348</td>\n      <td>0.169540</td>\n      <td>0.830460</td>\n    </tr>\n    <tr>\n      <th>m76</th>\n      <td>63</td>\n      <td>240</td>\n      <td>303</td>\n      <td>0.207921</td>\n      <td>0.792079</td>\n    </tr>\n    <tr>\n      <th>m77</th>\n      <td>399</td>\n      <td>586</td>\n      <td>985</td>\n      <td>0.405076</td>\n      <td>0.594924</td>\n    </tr>\n    <tr>\n      <th>m78</th>\n      <td>229</td>\n      <td>544</td>\n      <td>773</td>\n      <td>0.296248</td>\n      <td>0.703752</td>\n    </tr>\n    <tr>\n      <th>m79</th>\n      <td>218</td>\n      <td>245</td>\n      <td>463</td>\n      <td>0.470842</td>\n      <td>0.529158</td>\n    </tr>\n    <tr>\n      <th>m8</th>\n      <td>119</td>\n      <td>35</td>\n      <td>154</td>\n      <td>0.772727</td>\n      <td>0.227273</td>\n    </tr>\n    <tr>\n      <th>m80</th>\n      <td>65</td>\n      <td>66</td>\n      <td>131</td>\n      <td>0.496183</td>\n      <td>0.503817</td>\n    </tr>\n    <tr>\n      <th>m82</th>\n      <td>241</td>\n      <td>888</td>\n      <td>1129</td>\n      <td>0.213463</td>\n      <td>0.786537</td>\n    </tr>\n    <tr>\n      <th>m83</th>\n      <td>111</td>\n      <td>315</td>\n      <td>426</td>\n      <td>0.260563</td>\n      <td>0.739437</td>\n    </tr>\n    <tr>\n      <th>m84</th>\n      <td>176</td>\n      <td>268</td>\n      <td>444</td>\n      <td>0.396396</td>\n      <td>0.603604</td>\n    </tr>\n    <tr>\n      <th>m85</th>\n      <td>43</td>\n      <td>19</td>\n      <td>62</td>\n      <td>0.693548</td>\n      <td>0.306452</td>\n    </tr>\n    <tr>\n      <th>m87</th>\n      <td>240</td>\n      <td>213</td>\n      <td>453</td>\n      <td>0.529801</td>\n      <td>0.470199</td>\n    </tr>\n    <tr>\n      <th>m88</th>\n      <td>244</td>\n      <td>523</td>\n      <td>767</td>\n      <td>0.318123</td>\n      <td>0.681877</td>\n    </tr>\n    <tr>\n      <th>m89</th>\n      <td>143</td>\n      <td>314</td>\n      <td>457</td>\n      <td>0.312910</td>\n      <td>0.687090</td>\n    </tr>\n    <tr>\n      <th>m90</th>\n      <td>353</td>\n      <td>622</td>\n      <td>975</td>\n      <td>0.362051</td>\n      <td>0.637949</td>\n    </tr>\n    <tr>\n      <th>m91</th>\n      <td>103</td>\n      <td>77</td>\n      <td>180</td>\n      <td>0.572222</td>\n      <td>0.427778</td>\n    </tr>\n    <tr>\n      <th>m92</th>\n      <td>209</td>\n      <td>190</td>\n      <td>399</td>\n      <td>0.523810</td>\n      <td>0.476190</td>\n    </tr>\n    <tr>\n      <th>m93</th>\n      <td>237</td>\n      <td>253</td>\n      <td>490</td>\n      <td>0.483673</td>\n      <td>0.516327</td>\n    </tr>\n    <tr>\n      <th>m94</th>\n      <td>121</td>\n      <td>536</td>\n      <td>657</td>\n      <td>0.184170</td>\n      <td>0.815830</td>\n    </tr>\n    <tr>\n      <th>m95</th>\n      <td>33</td>\n      <td>47</td>\n      <td>80</td>\n      <td>0.412500</td>\n      <td>0.587500</td>\n    </tr>\n    <tr>\n      <th>m96</th>\n      <td>45</td>\n      <td>98</td>\n      <td>143</td>\n      <td>0.314685</td>\n      <td>0.685315</td>\n    </tr>\n    <tr>\n      <th>m97</th>\n      <td>49</td>\n      <td>188</td>\n      <td>237</td>\n      <td>0.206751</td>\n      <td>0.793249</td>\n    </tr>\n    <tr>\n      <th>m98</th>\n      <td>37</td>\n      <td>348</td>\n      <td>385</td>\n      <td>0.096104</td>\n      <td>0.903896</td>\n    </tr>\n    <tr>\n      <th>m99</th>\n      <td>113</td>\n      <td>157</td>\n      <td>270</td>\n      <td>0.418519</td>\n      <td>0.581481</td>\n    </tr>\n  </tbody>\n</table>\n<p>518 rows × 5 columns</p>\n</div>",
      "text/plain": [
       "          Female_Lines  Male_Lines  Total_Lines  Female_Percent  Male_Percent\n",
       "Movie ID                                                                     \n",
       "m0                 277         359          636        0.435535      0.564465\n",
       "m10                104         441          545        0.190826      0.809174\n",
       "m100               149         775          924        0.161255      0.838745\n",
       "m101                42         452          494        0.085020      0.914980\n",
       "m102               233         353          586        0.397611      0.602389\n",
       "m103               360         362          722        0.498615      0.501385\n",
       "m104                77         500          577        0.133449      0.866551\n",
       "m105               423         761         1184        0.357264      0.642736\n",
       "m106               146         450          596        0.244966      0.755034\n",
       "m107                29          42           71        0.408451      0.591549\n",
       "m108                34         337          371        0.091644      0.908356\n",
       "m109               456         173          629        0.724960      0.275040\n",
       "m110               141         157          298        0.473154      0.526846\n",
       "m111               135         271          406        0.332512      0.667488\n",
       "m112               167         420          587        0.284497      0.715503\n",
       "m113                57         280          337        0.169139      0.830861\n",
       "m114                98          83          181        0.541436      0.458564\n",
       "m115                64         154          218        0.293578      0.706422\n",
       "m116               114         112          226        0.504425      0.495575\n",
       "m117               277          93          370        0.748649      0.251351\n",
       "m118               147         548          695        0.211511      0.788489\n",
       "m119               224         462          686        0.326531      0.673469\n",
       "m12                 71          95          166        0.427711      0.572289\n",
       "m121                60         216          276        0.217391      0.782609\n",
       "m122               127         268          395        0.321519      0.678481\n",
       "m123               106         218          324        0.327160      0.672840\n",
       "m124                29         577          606        0.047855      0.952145\n",
       "m125                29         288          317        0.091483      0.908517\n",
       "m126               101         480          581        0.173838      0.826162\n",
       "m127                30         709          739        0.040595      0.959405\n",
       "...                ...         ...          ...             ...           ...\n",
       "m69                 56         337          393        0.142494      0.857506\n",
       "m7                  54          29           83        0.650602      0.349398\n",
       "m70                 85         587          672        0.126488      0.873512\n",
       "m71                124         427          551        0.225045      0.774955\n",
       "m72                659         239          898        0.733853      0.266147\n",
       "m74                 95         310          405        0.234568      0.765432\n",
       "m75                 59         289          348        0.169540      0.830460\n",
       "m76                 63         240          303        0.207921      0.792079\n",
       "m77                399         586          985        0.405076      0.594924\n",
       "m78                229         544          773        0.296248      0.703752\n",
       "m79                218         245          463        0.470842      0.529158\n",
       "m8                 119          35          154        0.772727      0.227273\n",
       "m80                 65          66          131        0.496183      0.503817\n",
       "m82                241         888         1129        0.213463      0.786537\n",
       "m83                111         315          426        0.260563      0.739437\n",
       "m84                176         268          444        0.396396      0.603604\n",
       "m85                 43          19           62        0.693548      0.306452\n",
       "m87                240         213          453        0.529801      0.470199\n",
       "m88                244         523          767        0.318123      0.681877\n",
       "m89                143         314          457        0.312910      0.687090\n",
       "m90                353         622          975        0.362051      0.637949\n",
       "m91                103          77          180        0.572222      0.427778\n",
       "m92                209         190          399        0.523810      0.476190\n",
       "m93                237         253          490        0.483673      0.516327\n",
       "m94                121         536          657        0.184170      0.815830\n",
       "m95                 33          47           80        0.412500      0.587500\n",
       "m96                 45          98          143        0.314685      0.685315\n",
       "m97                 49         188          237        0.206751      0.793249\n",
       "m98                 37         348          385        0.096104      0.903896\n",
       "m99                113         157          270        0.418519      0.581481\n",
       "\n",
       "[518 rows x 5 columns]"
      ]
     },
     "metadata": {},
     "execution_count": 79
    }
   ],
   "source": [
    "line_pct_by_gender"
   ]
  },
  {
   "cell_type": "code",
   "execution_count": null,
   "metadata": {},
   "outputs": [],
   "source": []
  }
 ]
}