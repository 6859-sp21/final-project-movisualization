{
 "metadata": {
  "language_info": {
   "codemirror_mode": {
    "name": "ipython",
    "version": 3
   },
   "file_extension": ".py",
   "mimetype": "text/x-python",
   "name": "python",
   "nbconvert_exporter": "python",
   "pygments_lexer": "ipython3",
   "version": "3.9.1"
  },
  "orig_nbformat": 2,
  "kernelspec": {
   "name": "python3",
   "display_name": "Python 3.9.1 64-bit",
   "metadata": {
    "interpreter": {
     "hash": "b694e184ab59b6b0d17f98adbc89c259efff9a9414d3f3ae8a63cb70de076e39"
    }
   }
  }
 },
 "nbformat": 4,
 "nbformat_minor": 2,
 "cells": [
  {
   "cell_type": "code",
   "execution_count": 1,
   "metadata": {},
   "outputs": [],
   "source": [
    "import pandas as pd\n",
    "import numpy as np\n",
    "import re"
   ]
  },
  {
   "cell_type": "code",
   "execution_count": 69,
   "metadata": {},
   "outputs": [],
   "source": [
    "conv_path = 'dialogue_data/movie_conversations.tsv'\n",
    "conv_df = pd.read_csv(conv_path, sep='\\t', header=None)\n",
    "conv_df.rename(columns={0:'CharID1', 1:'CharID2', 2:'MovieID', 3:'All_Lines'}, inplace=True)\n",
    "conv_df['Conv_ID'] = conv_df.index\n",
    "conv_df['Conv_ID'] = conv_df.Conv_ID.apply(lambda x: 'c'+str(x))\n",
    "\n",
    "lines_path = 'data_cleaned_merged/movie_lines_with_all_metadata.csv'\n",
    "lines_df = pd.read_csv(lines_path)\n",
    "lines_df.columns = lines_df.columns.str.replace(' ', '_')"
   ]
  },
  {
   "cell_type": "code",
   "execution_count": 78,
   "metadata": {},
   "outputs": [
    {
     "output_type": "execute_result",
     "data": {
      "text/plain": [
       "        Unnamed:_0  Unnamed:_0    ID                       Title  Year  \\\n",
       "0                0           0    m0  10 things i hate about you  1999   \n",
       "1                1           1    m0  10 things i hate about you  1999   \n",
       "2                2           2    m0  10 things i hate about you  1999   \n",
       "3                3           3    m0  10 things i hate about you  1999   \n",
       "4                4           4    m0  10 things i hate about you  1999   \n",
       "...            ...         ...   ...                         ...   ...   \n",
       "303809      303809      303809  m616                   zulu dawn  1979   \n",
       "303810      303810      303810  m616                   zulu dawn  1979   \n",
       "303811      303811      303811  m616                   zulu dawn  1979   \n",
       "303812      303812      303812  m616                   zulu dawn  1979   \n",
       "303813      303813      303813  m616                   zulu dawn  1979   \n",
       "\n",
       "        IMDB_Rating    Votes                                          Genres  \\\n",
       "0               6.9  62847.0                            ['comedy' 'romance']   \n",
       "1               6.9  62847.0                            ['comedy' 'romance']   \n",
       "2               6.9  62847.0                            ['comedy' 'romance']   \n",
       "3               6.9  62847.0                            ['comedy' 'romance']   \n",
       "4               6.9  62847.0                            ['comedy' 'romance']   \n",
       "...             ...      ...                                             ...   \n",
       "303809          6.4   1911.0  ['action' 'adventure' 'drama' 'history' 'war']   \n",
       "303810          6.4   1911.0  ['action' 'adventure' 'drama' 'history' 'war']   \n",
       "303811          6.4   1911.0  ['action' 'adventure' 'drama' 'history' 'war']   \n",
       "303812          6.4   1911.0  ['action' 'adventure' 'drama' 'history' 'war']   \n",
       "303813          6.4   1911.0  ['action' 'adventure' 'drama' 'history' 'war']   \n",
       "\n",
       "        Unnamed:_0.1 Character_ID Characters  \\\n",
       "0                  0           u0     BIANCA   \n",
       "1                  2           u0     BIANCA   \n",
       "2                  4           u0     BIANCA   \n",
       "3                  6           u0     BIANCA   \n",
       "4                  8           u0     BIANCA   \n",
       "...              ...          ...        ...   \n",
       "303809        304704        u9034    VEREKER   \n",
       "303810        304706        u9034    VEREKER   \n",
       "303811        304707        u9034    VEREKER   \n",
       "303812        304709        u9034    VEREKER   \n",
       "303813        304712        u9034    VEREKER   \n",
       "\n",
       "                                                     Line  Line_ID Movie_ID  \\\n",
       "0                                            They do not!    L1045       m0   \n",
       "1                                              I hope so.     L985       m0   \n",
       "2                                               Let's go.     L925       m0   \n",
       "3          Okay -- you're gonna need to learn how to lie.     L872       m0   \n",
       "4       I'm kidding.  You know how sometimes you just ...     L870       m0   \n",
       "...                                                   ...      ...      ...   \n",
       "303809  So far only their scouts. But we have had repo...  L666522     m616   \n",
       "303810  Well I assure you Sir I have no desire to crea...  L666520     m616   \n",
       "303811  I think Chelmsford wants a good man on the bor...  L666372     m616   \n",
       "303812  I'm to take the Sikali with the main column to...  L666370     m616   \n",
       "303813  Colonel Durnford... William Vereker. I hear yo...  L666256     m616   \n",
       "\n",
       "       Character Gender Position_in_Credits  Length  \n",
       "0         BIANCA      f                   4      22  \n",
       "1         BIANCA      f                   4      20  \n",
       "2         BIANCA      f                   4      16  \n",
       "3         BIANCA      f                   4      77  \n",
       "4         BIANCA      f                   4     157  \n",
       "...          ...    ...                 ...     ...  \n",
       "303809   VEREKER      ?                   ?     146  \n",
       "303810   VEREKER      ?                   ?     105  \n",
       "303811   VEREKER      ?                   ?     194  \n",
       "303812   VEREKER      ?                   ?      93  \n",
       "303813   VEREKER      ?                   ?     108  \n",
       "\n",
       "[303814 rows x 18 columns]"
      ],
      "text/html": "<div>\n<style scoped>\n    .dataframe tbody tr th:only-of-type {\n        vertical-align: middle;\n    }\n\n    .dataframe tbody tr th {\n        vertical-align: top;\n    }\n\n    .dataframe thead th {\n        text-align: right;\n    }\n</style>\n<table border=\"1\" class=\"dataframe\">\n  <thead>\n    <tr style=\"text-align: right;\">\n      <th></th>\n      <th>Unnamed:_0</th>\n      <th>Unnamed:_0</th>\n      <th>ID</th>\n      <th>Title</th>\n      <th>Year</th>\n      <th>IMDB_Rating</th>\n      <th>Votes</th>\n      <th>Genres</th>\n      <th>Unnamed:_0.1</th>\n      <th>Character_ID</th>\n      <th>Characters</th>\n      <th>Line</th>\n      <th>Line_ID</th>\n      <th>Movie_ID</th>\n      <th>Character</th>\n      <th>Gender</th>\n      <th>Position_in_Credits</th>\n      <th>Length</th>\n    </tr>\n  </thead>\n  <tbody>\n    <tr>\n      <th>0</th>\n      <td>0</td>\n      <td>0</td>\n      <td>m0</td>\n      <td>10 things i hate about you</td>\n      <td>1999</td>\n      <td>6.9</td>\n      <td>62847.0</td>\n      <td>['comedy' 'romance']</td>\n      <td>0</td>\n      <td>u0</td>\n      <td>BIANCA</td>\n      <td>They do not!</td>\n      <td>L1045</td>\n      <td>m0</td>\n      <td>BIANCA</td>\n      <td>f</td>\n      <td>4</td>\n      <td>22</td>\n    </tr>\n    <tr>\n      <th>1</th>\n      <td>1</td>\n      <td>1</td>\n      <td>m0</td>\n      <td>10 things i hate about you</td>\n      <td>1999</td>\n      <td>6.9</td>\n      <td>62847.0</td>\n      <td>['comedy' 'romance']</td>\n      <td>2</td>\n      <td>u0</td>\n      <td>BIANCA</td>\n      <td>I hope so.</td>\n      <td>L985</td>\n      <td>m0</td>\n      <td>BIANCA</td>\n      <td>f</td>\n      <td>4</td>\n      <td>20</td>\n    </tr>\n    <tr>\n      <th>2</th>\n      <td>2</td>\n      <td>2</td>\n      <td>m0</td>\n      <td>10 things i hate about you</td>\n      <td>1999</td>\n      <td>6.9</td>\n      <td>62847.0</td>\n      <td>['comedy' 'romance']</td>\n      <td>4</td>\n      <td>u0</td>\n      <td>BIANCA</td>\n      <td>Let's go.</td>\n      <td>L925</td>\n      <td>m0</td>\n      <td>BIANCA</td>\n      <td>f</td>\n      <td>4</td>\n      <td>16</td>\n    </tr>\n    <tr>\n      <th>3</th>\n      <td>3</td>\n      <td>3</td>\n      <td>m0</td>\n      <td>10 things i hate about you</td>\n      <td>1999</td>\n      <td>6.9</td>\n      <td>62847.0</td>\n      <td>['comedy' 'romance']</td>\n      <td>6</td>\n      <td>u0</td>\n      <td>BIANCA</td>\n      <td>Okay -- you're gonna need to learn how to lie.</td>\n      <td>L872</td>\n      <td>m0</td>\n      <td>BIANCA</td>\n      <td>f</td>\n      <td>4</td>\n      <td>77</td>\n    </tr>\n    <tr>\n      <th>4</th>\n      <td>4</td>\n      <td>4</td>\n      <td>m0</td>\n      <td>10 things i hate about you</td>\n      <td>1999</td>\n      <td>6.9</td>\n      <td>62847.0</td>\n      <td>['comedy' 'romance']</td>\n      <td>8</td>\n      <td>u0</td>\n      <td>BIANCA</td>\n      <td>I'm kidding.  You know how sometimes you just ...</td>\n      <td>L870</td>\n      <td>m0</td>\n      <td>BIANCA</td>\n      <td>f</td>\n      <td>4</td>\n      <td>157</td>\n    </tr>\n    <tr>\n      <th>...</th>\n      <td>...</td>\n      <td>...</td>\n      <td>...</td>\n      <td>...</td>\n      <td>...</td>\n      <td>...</td>\n      <td>...</td>\n      <td>...</td>\n      <td>...</td>\n      <td>...</td>\n      <td>...</td>\n      <td>...</td>\n      <td>...</td>\n      <td>...</td>\n      <td>...</td>\n      <td>...</td>\n      <td>...</td>\n      <td>...</td>\n    </tr>\n    <tr>\n      <th>303809</th>\n      <td>303809</td>\n      <td>303809</td>\n      <td>m616</td>\n      <td>zulu dawn</td>\n      <td>1979</td>\n      <td>6.4</td>\n      <td>1911.0</td>\n      <td>['action' 'adventure' 'drama' 'history' 'war']</td>\n      <td>304704</td>\n      <td>u9034</td>\n      <td>VEREKER</td>\n      <td>So far only their scouts. But we have had repo...</td>\n      <td>L666522</td>\n      <td>m616</td>\n      <td>VEREKER</td>\n      <td>?</td>\n      <td>?</td>\n      <td>146</td>\n    </tr>\n    <tr>\n      <th>303810</th>\n      <td>303810</td>\n      <td>303810</td>\n      <td>m616</td>\n      <td>zulu dawn</td>\n      <td>1979</td>\n      <td>6.4</td>\n      <td>1911.0</td>\n      <td>['action' 'adventure' 'drama' 'history' 'war']</td>\n      <td>304706</td>\n      <td>u9034</td>\n      <td>VEREKER</td>\n      <td>Well I assure you Sir I have no desire to crea...</td>\n      <td>L666520</td>\n      <td>m616</td>\n      <td>VEREKER</td>\n      <td>?</td>\n      <td>?</td>\n      <td>105</td>\n    </tr>\n    <tr>\n      <th>303811</th>\n      <td>303811</td>\n      <td>303811</td>\n      <td>m616</td>\n      <td>zulu dawn</td>\n      <td>1979</td>\n      <td>6.4</td>\n      <td>1911.0</td>\n      <td>['action' 'adventure' 'drama' 'history' 'war']</td>\n      <td>304707</td>\n      <td>u9034</td>\n      <td>VEREKER</td>\n      <td>I think Chelmsford wants a good man on the bor...</td>\n      <td>L666372</td>\n      <td>m616</td>\n      <td>VEREKER</td>\n      <td>?</td>\n      <td>?</td>\n      <td>194</td>\n    </tr>\n    <tr>\n      <th>303812</th>\n      <td>303812</td>\n      <td>303812</td>\n      <td>m616</td>\n      <td>zulu dawn</td>\n      <td>1979</td>\n      <td>6.4</td>\n      <td>1911.0</td>\n      <td>['action' 'adventure' 'drama' 'history' 'war']</td>\n      <td>304709</td>\n      <td>u9034</td>\n      <td>VEREKER</td>\n      <td>I'm to take the Sikali with the main column to...</td>\n      <td>L666370</td>\n      <td>m616</td>\n      <td>VEREKER</td>\n      <td>?</td>\n      <td>?</td>\n      <td>93</td>\n    </tr>\n    <tr>\n      <th>303813</th>\n      <td>303813</td>\n      <td>303813</td>\n      <td>m616</td>\n      <td>zulu dawn</td>\n      <td>1979</td>\n      <td>6.4</td>\n      <td>1911.0</td>\n      <td>['action' 'adventure' 'drama' 'history' 'war']</td>\n      <td>304712</td>\n      <td>u9034</td>\n      <td>VEREKER</td>\n      <td>Colonel Durnford... William Vereker. I hear yo...</td>\n      <td>L666256</td>\n      <td>m616</td>\n      <td>VEREKER</td>\n      <td>?</td>\n      <td>?</td>\n      <td>108</td>\n    </tr>\n  </tbody>\n</table>\n<p>303814 rows × 18 columns</p>\n</div>"
     },
     "metadata": {},
     "execution_count": 78
    }
   ],
   "source": [
    "lines_df"
   ]
  },
  {
   "cell_type": "code",
   "execution_count": 70,
   "metadata": {},
   "outputs": [],
   "source": [
    "conv_df['Line_ID'] = conv_df.All_Lines.apply(lambda x: x[1:-2].replace(\"'\", '').split(' '))"
   ]
  },
  {
   "cell_type": "code",
   "execution_count": 71,
   "metadata": {},
   "outputs": [
    {
     "output_type": "execute_result",
     "data": {
      "text/plain": [
       "       CharID1 CharID2 MovieID                                  All_Lines  \\\n",
       "0           u0      u2      m0              ['L194' 'L195' 'L196' 'L197']   \n",
       "1           u0      u2      m0              ['L194' 'L195' 'L196' 'L197']   \n",
       "2           u0      u2      m0              ['L194' 'L195' 'L196' 'L197']   \n",
       "3           u0      u2      m0              ['L194' 'L195' 'L196' 'L197']   \n",
       "4           u0      u2      m0                            ['L198' 'L199']   \n",
       "...        ...     ...     ...                                        ...   \n",
       "304708   u9030   u9034    m616  ['L666369' 'L666370' 'L666371' 'L666372']   \n",
       "304709   u9030   u9034    m616  ['L666369' 'L666370' 'L666371' 'L666372']   \n",
       "304710   u9030   u9034    m616            ['L666520' 'L666521' 'L666522']   \n",
       "304711   u9030   u9034    m616            ['L666520' 'L666521' 'L666522']   \n",
       "304712   u9030   u9034    m616            ['L666520' 'L666521' 'L666522']   \n",
       "\n",
       "       Conv_ID  Line_ID  \n",
       "0           c0     L194  \n",
       "1           c0     L195  \n",
       "2           c0     L196  \n",
       "3           c0     L197  \n",
       "4           c1     L198  \n",
       "...        ...      ...  \n",
       "304708  c83095  L666371  \n",
       "304709  c83095  L666372  \n",
       "304710  c83096  L666520  \n",
       "304711  c83096  L666521  \n",
       "304712  c83096  L666522  \n",
       "\n",
       "[304713 rows x 6 columns]"
      ],
      "text/html": "<div>\n<style scoped>\n    .dataframe tbody tr th:only-of-type {\n        vertical-align: middle;\n    }\n\n    .dataframe tbody tr th {\n        vertical-align: top;\n    }\n\n    .dataframe thead th {\n        text-align: right;\n    }\n</style>\n<table border=\"1\" class=\"dataframe\">\n  <thead>\n    <tr style=\"text-align: right;\">\n      <th></th>\n      <th>CharID1</th>\n      <th>CharID2</th>\n      <th>MovieID</th>\n      <th>All_Lines</th>\n      <th>Conv_ID</th>\n      <th>Line_ID</th>\n    </tr>\n  </thead>\n  <tbody>\n    <tr>\n      <th>0</th>\n      <td>u0</td>\n      <td>u2</td>\n      <td>m0</td>\n      <td>['L194' 'L195' 'L196' 'L197']</td>\n      <td>c0</td>\n      <td>L194</td>\n    </tr>\n    <tr>\n      <th>1</th>\n      <td>u0</td>\n      <td>u2</td>\n      <td>m0</td>\n      <td>['L194' 'L195' 'L196' 'L197']</td>\n      <td>c0</td>\n      <td>L195</td>\n    </tr>\n    <tr>\n      <th>2</th>\n      <td>u0</td>\n      <td>u2</td>\n      <td>m0</td>\n      <td>['L194' 'L195' 'L196' 'L197']</td>\n      <td>c0</td>\n      <td>L196</td>\n    </tr>\n    <tr>\n      <th>3</th>\n      <td>u0</td>\n      <td>u2</td>\n      <td>m0</td>\n      <td>['L194' 'L195' 'L196' 'L197']</td>\n      <td>c0</td>\n      <td>L197</td>\n    </tr>\n    <tr>\n      <th>4</th>\n      <td>u0</td>\n      <td>u2</td>\n      <td>m0</td>\n      <td>['L198' 'L199']</td>\n      <td>c1</td>\n      <td>L198</td>\n    </tr>\n    <tr>\n      <th>...</th>\n      <td>...</td>\n      <td>...</td>\n      <td>...</td>\n      <td>...</td>\n      <td>...</td>\n      <td>...</td>\n    </tr>\n    <tr>\n      <th>304708</th>\n      <td>u9030</td>\n      <td>u9034</td>\n      <td>m616</td>\n      <td>['L666369' 'L666370' 'L666371' 'L666372']</td>\n      <td>c83095</td>\n      <td>L666371</td>\n    </tr>\n    <tr>\n      <th>304709</th>\n      <td>u9030</td>\n      <td>u9034</td>\n      <td>m616</td>\n      <td>['L666369' 'L666370' 'L666371' 'L666372']</td>\n      <td>c83095</td>\n      <td>L666372</td>\n    </tr>\n    <tr>\n      <th>304710</th>\n      <td>u9030</td>\n      <td>u9034</td>\n      <td>m616</td>\n      <td>['L666520' 'L666521' 'L666522']</td>\n      <td>c83096</td>\n      <td>L666520</td>\n    </tr>\n    <tr>\n      <th>304711</th>\n      <td>u9030</td>\n      <td>u9034</td>\n      <td>m616</td>\n      <td>['L666520' 'L666521' 'L666522']</td>\n      <td>c83096</td>\n      <td>L666521</td>\n    </tr>\n    <tr>\n      <th>304712</th>\n      <td>u9030</td>\n      <td>u9034</td>\n      <td>m616</td>\n      <td>['L666520' 'L666521' 'L666522']</td>\n      <td>c83096</td>\n      <td>L666522</td>\n    </tr>\n  </tbody>\n</table>\n<p>304713 rows × 6 columns</p>\n</div>"
     },
     "metadata": {},
     "execution_count": 71
    }
   ],
   "source": [
    "conv_df = conv_df.explode('Line_ID', ignore_index=True)\n",
    "conv_df"
   ]
  },
  {
   "cell_type": "code",
   "execution_count": 72,
   "metadata": {},
   "outputs": [],
   "source": [
    "conv_merged = conv_df.merge(lines_df, on='Line_ID')\n",
    "# conv_merged.dtypes\n",
    "conv_merged = conv_merged[['CharID1', 'CharID2', 'MovieID', 'Conv_ID', 'Line_ID', 'Title', 'Year', 'IMDB_Rating', 'Votes', 'Genres', 'Character_ID', 'Character' ,'Gender', 'Position_in_Credits', 'Length', \"Line\"]]"
   ]
  },
  {
   "cell_type": "code",
   "execution_count": 77,
   "metadata": {},
   "outputs": [
    {
     "output_type": "execute_result",
     "data": {
      "text/plain": [
       "       CharID1 CharID2 MovieID Conv_ID  Line_ID                       Title  \\\n",
       "0           u0      u2      m0      c0     L194  10 things i hate about you   \n",
       "1           u0      u2      m0      c0     L195  10 things i hate about you   \n",
       "2           u0      u2      m0      c0     L196  10 things i hate about you   \n",
       "3           u0      u2      m0      c0     L197  10 things i hate about you   \n",
       "4           u0      u2      m0      c1     L198  10 things i hate about you   \n",
       "...        ...     ...     ...     ...      ...                         ...   \n",
       "303809   u9030   u9034    m616  c83095  L666371                   zulu dawn   \n",
       "303810   u9030   u9034    m616  c83095  L666372                   zulu dawn   \n",
       "303811   u9030   u9034    m616  c83096  L666520                   zulu dawn   \n",
       "303812   u9030   u9034    m616  c83096  L666521                   zulu dawn   \n",
       "303813   u9030   u9034    m616  c83096  L666522                   zulu dawn   \n",
       "\n",
       "        Year  IMDB_Rating    Votes  \\\n",
       "0       1999          6.9  62847.0   \n",
       "1       1999          6.9  62847.0   \n",
       "2       1999          6.9  62847.0   \n",
       "3       1999          6.9  62847.0   \n",
       "4       1999          6.9  62847.0   \n",
       "...      ...          ...      ...   \n",
       "303809  1979          6.4   1911.0   \n",
       "303810  1979          6.4   1911.0   \n",
       "303811  1979          6.4   1911.0   \n",
       "303812  1979          6.4   1911.0   \n",
       "303813  1979          6.4   1911.0   \n",
       "\n",
       "                                                Genres Character_ID Character  \\\n",
       "0                                 ['comedy' 'romance']           u0    BIANCA   \n",
       "1                                 ['comedy' 'romance']           u2   CAMERON   \n",
       "2                                 ['comedy' 'romance']           u0    BIANCA   \n",
       "3                                 ['comedy' 'romance']           u2   CAMERON   \n",
       "4                                 ['comedy' 'romance']           u0    BIANCA   \n",
       "...                                                ...          ...       ...   \n",
       "303809  ['action' 'adventure' 'drama' 'history' 'war']        u9030  DURNFORD   \n",
       "303810  ['action' 'adventure' 'drama' 'history' 'war']        u9034   VEREKER   \n",
       "303811  ['action' 'adventure' 'drama' 'history' 'war']        u9034   VEREKER   \n",
       "303812  ['action' 'adventure' 'drama' 'history' 'war']        u9030  DURNFORD   \n",
       "303813  ['action' 'adventure' 'drama' 'history' 'war']        u9034   VEREKER   \n",
       "\n",
       "       Gender Position_in_Credits  Length  \\\n",
       "0           f                   4     198   \n",
       "1           m                   3     106   \n",
       "2           f                   4      82   \n",
       "3           m                   3     108   \n",
       "4           f                   4      95   \n",
       "...       ...                 ...     ...   \n",
       "303809      ?                   ?      99   \n",
       "303810      ?                   ?     194   \n",
       "303811      ?                   ?     105   \n",
       "303812      ?                   ?     164   \n",
       "303813      ?                   ?     146   \n",
       "\n",
       "                                                     Line  \n",
       "0       Can we make this quick?  Roxanne Korrine and A...  \n",
       "1       Well I thought we'd start with pronunciation i...  \n",
       "2       Not the hacking and gagging and spitting part....  \n",
       "3       Okay... then how 'bout we try out some French ...  \n",
       "4       You're asking me out.  That's so cute. What's ...  \n",
       "...                                                   ...  \n",
       "303809  Lord Chelmsford seems to want me to stay back ...  \n",
       "303810  I think Chelmsford wants a good man on the bor...  \n",
       "303811  Well I assure you Sir I have no desire to crea...  \n",
       "303812  And I assure you you do not In fact I'd be obl...  \n",
       "303813  So far only their scouts. But we have had repo...  \n",
       "\n",
       "[303814 rows x 16 columns]"
      ],
      "text/html": "<div>\n<style scoped>\n    .dataframe tbody tr th:only-of-type {\n        vertical-align: middle;\n    }\n\n    .dataframe tbody tr th {\n        vertical-align: top;\n    }\n\n    .dataframe thead th {\n        text-align: right;\n    }\n</style>\n<table border=\"1\" class=\"dataframe\">\n  <thead>\n    <tr style=\"text-align: right;\">\n      <th></th>\n      <th>CharID1</th>\n      <th>CharID2</th>\n      <th>MovieID</th>\n      <th>Conv_ID</th>\n      <th>Line_ID</th>\n      <th>Title</th>\n      <th>Year</th>\n      <th>IMDB_Rating</th>\n      <th>Votes</th>\n      <th>Genres</th>\n      <th>Character_ID</th>\n      <th>Character</th>\n      <th>Gender</th>\n      <th>Position_in_Credits</th>\n      <th>Length</th>\n      <th>Line</th>\n    </tr>\n  </thead>\n  <tbody>\n    <tr>\n      <th>0</th>\n      <td>u0</td>\n      <td>u2</td>\n      <td>m0</td>\n      <td>c0</td>\n      <td>L194</td>\n      <td>10 things i hate about you</td>\n      <td>1999</td>\n      <td>6.9</td>\n      <td>62847.0</td>\n      <td>['comedy' 'romance']</td>\n      <td>u0</td>\n      <td>BIANCA</td>\n      <td>f</td>\n      <td>4</td>\n      <td>198</td>\n      <td>Can we make this quick?  Roxanne Korrine and A...</td>\n    </tr>\n    <tr>\n      <th>1</th>\n      <td>u0</td>\n      <td>u2</td>\n      <td>m0</td>\n      <td>c0</td>\n      <td>L195</td>\n      <td>10 things i hate about you</td>\n      <td>1999</td>\n      <td>6.9</td>\n      <td>62847.0</td>\n      <td>['comedy' 'romance']</td>\n      <td>u2</td>\n      <td>CAMERON</td>\n      <td>m</td>\n      <td>3</td>\n      <td>106</td>\n      <td>Well I thought we'd start with pronunciation i...</td>\n    </tr>\n    <tr>\n      <th>2</th>\n      <td>u0</td>\n      <td>u2</td>\n      <td>m0</td>\n      <td>c0</td>\n      <td>L196</td>\n      <td>10 things i hate about you</td>\n      <td>1999</td>\n      <td>6.9</td>\n      <td>62847.0</td>\n      <td>['comedy' 'romance']</td>\n      <td>u0</td>\n      <td>BIANCA</td>\n      <td>f</td>\n      <td>4</td>\n      <td>82</td>\n      <td>Not the hacking and gagging and spitting part....</td>\n    </tr>\n    <tr>\n      <th>3</th>\n      <td>u0</td>\n      <td>u2</td>\n      <td>m0</td>\n      <td>c0</td>\n      <td>L197</td>\n      <td>10 things i hate about you</td>\n      <td>1999</td>\n      <td>6.9</td>\n      <td>62847.0</td>\n      <td>['comedy' 'romance']</td>\n      <td>u2</td>\n      <td>CAMERON</td>\n      <td>m</td>\n      <td>3</td>\n      <td>108</td>\n      <td>Okay... then how 'bout we try out some French ...</td>\n    </tr>\n    <tr>\n      <th>4</th>\n      <td>u0</td>\n      <td>u2</td>\n      <td>m0</td>\n      <td>c1</td>\n      <td>L198</td>\n      <td>10 things i hate about you</td>\n      <td>1999</td>\n      <td>6.9</td>\n      <td>62847.0</td>\n      <td>['comedy' 'romance']</td>\n      <td>u0</td>\n      <td>BIANCA</td>\n      <td>f</td>\n      <td>4</td>\n      <td>95</td>\n      <td>You're asking me out.  That's so cute. What's ...</td>\n    </tr>\n    <tr>\n      <th>...</th>\n      <td>...</td>\n      <td>...</td>\n      <td>...</td>\n      <td>...</td>\n      <td>...</td>\n      <td>...</td>\n      <td>...</td>\n      <td>...</td>\n      <td>...</td>\n      <td>...</td>\n      <td>...</td>\n      <td>...</td>\n      <td>...</td>\n      <td>...</td>\n      <td>...</td>\n      <td>...</td>\n    </tr>\n    <tr>\n      <th>303809</th>\n      <td>u9030</td>\n      <td>u9034</td>\n      <td>m616</td>\n      <td>c83095</td>\n      <td>L666371</td>\n      <td>zulu dawn</td>\n      <td>1979</td>\n      <td>6.4</td>\n      <td>1911.0</td>\n      <td>['action' 'adventure' 'drama' 'history' 'war']</td>\n      <td>u9030</td>\n      <td>DURNFORD</td>\n      <td>?</td>\n      <td>?</td>\n      <td>99</td>\n      <td>Lord Chelmsford seems to want me to stay back ...</td>\n    </tr>\n    <tr>\n      <th>303810</th>\n      <td>u9030</td>\n      <td>u9034</td>\n      <td>m616</td>\n      <td>c83095</td>\n      <td>L666372</td>\n      <td>zulu dawn</td>\n      <td>1979</td>\n      <td>6.4</td>\n      <td>1911.0</td>\n      <td>['action' 'adventure' 'drama' 'history' 'war']</td>\n      <td>u9034</td>\n      <td>VEREKER</td>\n      <td>?</td>\n      <td>?</td>\n      <td>194</td>\n      <td>I think Chelmsford wants a good man on the bor...</td>\n    </tr>\n    <tr>\n      <th>303811</th>\n      <td>u9030</td>\n      <td>u9034</td>\n      <td>m616</td>\n      <td>c83096</td>\n      <td>L666520</td>\n      <td>zulu dawn</td>\n      <td>1979</td>\n      <td>6.4</td>\n      <td>1911.0</td>\n      <td>['action' 'adventure' 'drama' 'history' 'war']</td>\n      <td>u9034</td>\n      <td>VEREKER</td>\n      <td>?</td>\n      <td>?</td>\n      <td>105</td>\n      <td>Well I assure you Sir I have no desire to crea...</td>\n    </tr>\n    <tr>\n      <th>303812</th>\n      <td>u9030</td>\n      <td>u9034</td>\n      <td>m616</td>\n      <td>c83096</td>\n      <td>L666521</td>\n      <td>zulu dawn</td>\n      <td>1979</td>\n      <td>6.4</td>\n      <td>1911.0</td>\n      <td>['action' 'adventure' 'drama' 'history' 'war']</td>\n      <td>u9030</td>\n      <td>DURNFORD</td>\n      <td>?</td>\n      <td>?</td>\n      <td>164</td>\n      <td>And I assure you you do not In fact I'd be obl...</td>\n    </tr>\n    <tr>\n      <th>303813</th>\n      <td>u9030</td>\n      <td>u9034</td>\n      <td>m616</td>\n      <td>c83096</td>\n      <td>L666522</td>\n      <td>zulu dawn</td>\n      <td>1979</td>\n      <td>6.4</td>\n      <td>1911.0</td>\n      <td>['action' 'adventure' 'drama' 'history' 'war']</td>\n      <td>u9034</td>\n      <td>VEREKER</td>\n      <td>?</td>\n      <td>?</td>\n      <td>146</td>\n      <td>So far only their scouts. But we have had repo...</td>\n    </tr>\n  </tbody>\n</table>\n<p>303814 rows × 16 columns</p>\n</div>"
     },
     "metadata": {},
     "execution_count": 77
    }
   ],
   "source": [
    "conv_merged"
   ]
  },
  {
   "cell_type": "code",
   "execution_count": null,
   "metadata": {},
   "outputs": [],
   "source": []
  }
 ]
}