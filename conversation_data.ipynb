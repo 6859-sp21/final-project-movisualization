{
 "metadata": {
  "language_info": {
   "codemirror_mode": {
    "name": "ipython",
    "version": 3
   },
   "file_extension": ".py",
   "mimetype": "text/x-python",
   "name": "python",
   "nbconvert_exporter": "python",
   "pygments_lexer": "ipython3",
   "version": "3.9.1"
  },
  "orig_nbformat": 2,
  "kernelspec": {
   "name": "python3",
   "display_name": "Python 3.9.1 64-bit",
   "metadata": {
    "interpreter": {
     "hash": "b694e184ab59b6b0d17f98adbc89c259efff9a9414d3f3ae8a63cb70de076e39"
    }
   }
  }
 },
 "nbformat": 4,
 "nbformat_minor": 2,
 "cells": [
  {
   "cell_type": "code",
   "execution_count": 1,
   "metadata": {},
   "outputs": [],
   "source": [
    "import pandas as pd\n",
    "import numpy as np\n",
    "import re"
   ]
  },
  {
   "cell_type": "code",
   "execution_count": 145,
   "metadata": {},
   "outputs": [],
   "source": [
    "conv_path = 'dialogue_data/movie_conversations.tsv'\n",
    "conv_df = pd.read_csv(conv_path, sep='\\t', header=None)\n",
    "conv_df.rename(columns={0:'CharID1', 1:'CharID2', 2:'MovieID', 3:'All_Lines'}, inplace=True)\n",
    "conv_df['Conv_ID'] = conv_df.index\n",
    "conv_df['Conv_ID'] = conv_df.Conv_ID.apply(lambda x: 'c'+str(x))\n",
    "\n",
    "lines_path = 'data_cleaned_merged/movie_lines_with_all_metadata.csv'\n",
    "lines_df = pd.read_csv(lines_path)\n",
    "lines_df.columns = lines_df.columns.str.replace(' ', '_')"
   ]
  },
  {
   "cell_type": "code",
   "execution_count": 146,
   "metadata": {},
   "outputs": [],
   "source": [
    "# lines_df['Length'] = lines_df.Line.apply(lambda x: len(x.split()))\n",
    "# lines_df.to_csv(lines_path)"
   ]
  },
  {
   "cell_type": "code",
   "execution_count": 147,
   "metadata": {},
   "outputs": [],
   "source": [
    "conv_df['Line_ID'] = conv_df.All_Lines.apply(lambda x: x[1:-2].replace(\"'\", '').split(' '))"
   ]
  },
  {
   "cell_type": "code",
   "execution_count": 150,
   "metadata": {},
   "outputs": [],
   "source": [
    "conv_df = conv_df.explode('Line_ID', ignore_index=True)\n",
    "# conv_df = conv_df[['MovieID', 'Conv_ID', 'All_Lines', 'Line_ID']]\n",
    "# conv_df.drop_duplicates"
   ]
  },
  {
   "cell_type": "code",
   "execution_count": 151,
   "metadata": {},
   "outputs": [
    {
     "output_type": "execute_result",
     "data": {
      "text/plain": [
       "       CharID1 CharID2 MovieID                                  All_Lines  \\\n",
       "0           u0      u2      m0              ['L194' 'L195' 'L196' 'L197']   \n",
       "1           u0      u2      m0              ['L194' 'L195' 'L196' 'L197']   \n",
       "2           u0      u2      m0              ['L194' 'L195' 'L196' 'L197']   \n",
       "3           u0      u2      m0              ['L194' 'L195' 'L196' 'L197']   \n",
       "4           u0      u2      m0                            ['L198' 'L199']   \n",
       "...        ...     ...     ...                                        ...   \n",
       "304708   u9030   u9034    m616  ['L666369' 'L666370' 'L666371' 'L666372']   \n",
       "304709   u9030   u9034    m616  ['L666369' 'L666370' 'L666371' 'L666372']   \n",
       "304710   u9030   u9034    m616            ['L666520' 'L666521' 'L666522']   \n",
       "304711   u9030   u9034    m616            ['L666520' 'L666521' 'L666522']   \n",
       "304712   u9030   u9034    m616            ['L666520' 'L666521' 'L666522']   \n",
       "\n",
       "       Conv_ID  Line_ID  \n",
       "0           c0     L194  \n",
       "1           c0     L195  \n",
       "2           c0     L196  \n",
       "3           c0     L197  \n",
       "4           c1     L198  \n",
       "...        ...      ...  \n",
       "304708  c83095  L666371  \n",
       "304709  c83095  L666372  \n",
       "304710  c83096  L666520  \n",
       "304711  c83096  L666521  \n",
       "304712  c83096  L666522  \n",
       "\n",
       "[304713 rows x 6 columns]"
      ],
      "text/html": "<div>\n<style scoped>\n    .dataframe tbody tr th:only-of-type {\n        vertical-align: middle;\n    }\n\n    .dataframe tbody tr th {\n        vertical-align: top;\n    }\n\n    .dataframe thead th {\n        text-align: right;\n    }\n</style>\n<table border=\"1\" class=\"dataframe\">\n  <thead>\n    <tr style=\"text-align: right;\">\n      <th></th>\n      <th>CharID1</th>\n      <th>CharID2</th>\n      <th>MovieID</th>\n      <th>All_Lines</th>\n      <th>Conv_ID</th>\n      <th>Line_ID</th>\n    </tr>\n  </thead>\n  <tbody>\n    <tr>\n      <th>0</th>\n      <td>u0</td>\n      <td>u2</td>\n      <td>m0</td>\n      <td>['L194' 'L195' 'L196' 'L197']</td>\n      <td>c0</td>\n      <td>L194</td>\n    </tr>\n    <tr>\n      <th>1</th>\n      <td>u0</td>\n      <td>u2</td>\n      <td>m0</td>\n      <td>['L194' 'L195' 'L196' 'L197']</td>\n      <td>c0</td>\n      <td>L195</td>\n    </tr>\n    <tr>\n      <th>2</th>\n      <td>u0</td>\n      <td>u2</td>\n      <td>m0</td>\n      <td>['L194' 'L195' 'L196' 'L197']</td>\n      <td>c0</td>\n      <td>L196</td>\n    </tr>\n    <tr>\n      <th>3</th>\n      <td>u0</td>\n      <td>u2</td>\n      <td>m0</td>\n      <td>['L194' 'L195' 'L196' 'L197']</td>\n      <td>c0</td>\n      <td>L197</td>\n    </tr>\n    <tr>\n      <th>4</th>\n      <td>u0</td>\n      <td>u2</td>\n      <td>m0</td>\n      <td>['L198' 'L199']</td>\n      <td>c1</td>\n      <td>L198</td>\n    </tr>\n    <tr>\n      <th>...</th>\n      <td>...</td>\n      <td>...</td>\n      <td>...</td>\n      <td>...</td>\n      <td>...</td>\n      <td>...</td>\n    </tr>\n    <tr>\n      <th>304708</th>\n      <td>u9030</td>\n      <td>u9034</td>\n      <td>m616</td>\n      <td>['L666369' 'L666370' 'L666371' 'L666372']</td>\n      <td>c83095</td>\n      <td>L666371</td>\n    </tr>\n    <tr>\n      <th>304709</th>\n      <td>u9030</td>\n      <td>u9034</td>\n      <td>m616</td>\n      <td>['L666369' 'L666370' 'L666371' 'L666372']</td>\n      <td>c83095</td>\n      <td>L666372</td>\n    </tr>\n    <tr>\n      <th>304710</th>\n      <td>u9030</td>\n      <td>u9034</td>\n      <td>m616</td>\n      <td>['L666520' 'L666521' 'L666522']</td>\n      <td>c83096</td>\n      <td>L666520</td>\n    </tr>\n    <tr>\n      <th>304711</th>\n      <td>u9030</td>\n      <td>u9034</td>\n      <td>m616</td>\n      <td>['L666520' 'L666521' 'L666522']</td>\n      <td>c83096</td>\n      <td>L666521</td>\n    </tr>\n    <tr>\n      <th>304712</th>\n      <td>u9030</td>\n      <td>u9034</td>\n      <td>m616</td>\n      <td>['L666520' 'L666521' 'L666522']</td>\n      <td>c83096</td>\n      <td>L666522</td>\n    </tr>\n  </tbody>\n</table>\n<p>304713 rows × 6 columns</p>\n</div>"
     },
     "metadata": {},
     "execution_count": 151
    }
   ],
   "source": [
    "conv_df"
   ]
  },
  {
   "cell_type": "code",
   "execution_count": 153,
   "metadata": {},
   "outputs": [
    {
     "output_type": "execute_result",
     "data": {
      "text/plain": [
       "       CharID1 CharID2 MovieID Conv_ID  Line_ID                       Title  \\\n",
       "0           u0      u2      m0      c0     L194  10 things i hate about you   \n",
       "1           u0      u2      m0      c0     L195  10 things i hate about you   \n",
       "2           u0      u2      m0      c0     L196  10 things i hate about you   \n",
       "3           u0      u2      m0      c0     L197  10 things i hate about you   \n",
       "4           u0      u2      m0      c1     L198  10 things i hate about you   \n",
       "...        ...     ...     ...     ...      ...                         ...   \n",
       "303809   u9030   u9034    m616  c83095  L666371                   zulu dawn   \n",
       "303810   u9030   u9034    m616  c83095  L666372                   zulu dawn   \n",
       "303811   u9030   u9034    m616  c83096  L666520                   zulu dawn   \n",
       "303812   u9030   u9034    m616  c83096  L666521                   zulu dawn   \n",
       "303813   u9030   u9034    m616  c83096  L666522                   zulu dawn   \n",
       "\n",
       "        Year  IMDB_Rating    Votes  \\\n",
       "0       1999          6.9  62847.0   \n",
       "1       1999          6.9  62847.0   \n",
       "2       1999          6.9  62847.0   \n",
       "3       1999          6.9  62847.0   \n",
       "4       1999          6.9  62847.0   \n",
       "...      ...          ...      ...   \n",
       "303809  1979          6.4   1911.0   \n",
       "303810  1979          6.4   1911.0   \n",
       "303811  1979          6.4   1911.0   \n",
       "303812  1979          6.4   1911.0   \n",
       "303813  1979          6.4   1911.0   \n",
       "\n",
       "                                                Genres Character_ID Character  \\\n",
       "0                                 ['comedy' 'romance']           u0    BIANCA   \n",
       "1                                 ['comedy' 'romance']           u2   CAMERON   \n",
       "2                                 ['comedy' 'romance']           u0    BIANCA   \n",
       "3                                 ['comedy' 'romance']           u2   CAMERON   \n",
       "4                                 ['comedy' 'romance']           u0    BIANCA   \n",
       "...                                                ...          ...       ...   \n",
       "303809  ['action' 'adventure' 'drama' 'history' 'war']        u9030  DURNFORD   \n",
       "303810  ['action' 'adventure' 'drama' 'history' 'war']        u9034   VEREKER   \n",
       "303811  ['action' 'adventure' 'drama' 'history' 'war']        u9034   VEREKER   \n",
       "303812  ['action' 'adventure' 'drama' 'history' 'war']        u9030  DURNFORD   \n",
       "303813  ['action' 'adventure' 'drama' 'history' 'war']        u9034   VEREKER   \n",
       "\n",
       "       Gender Position_in_Credits  Length  \\\n",
       "0           f                   4      22   \n",
       "1           m                   3      12   \n",
       "2           f                   4       9   \n",
       "3           m                   3      12   \n",
       "4           f                   4      11   \n",
       "...       ...                 ...     ...   \n",
       "303809      ?                   ?      12   \n",
       "303810      ?                   ?      23   \n",
       "303811      ?                   ?      13   \n",
       "303812      ?                   ?      21   \n",
       "303813      ?                   ?      18   \n",
       "\n",
       "                                                     Line  \n",
       "0       Can we make this quick?  Roxanne Korrine and A...  \n",
       "1       Well I thought we'd start with pronunciation i...  \n",
       "2       Not the hacking and gagging and spitting part....  \n",
       "3       Okay... then how 'bout we try out some French ...  \n",
       "4       You're asking me out.  That's so cute. What's ...  \n",
       "...                                                   ...  \n",
       "303809  Lord Chelmsford seems to want me to stay back ...  \n",
       "303810  I think Chelmsford wants a good man on the bor...  \n",
       "303811  Well I assure you Sir I have no desire to crea...  \n",
       "303812  And I assure you you do not In fact I'd be obl...  \n",
       "303813  So far only their scouts. But we have had repo...  \n",
       "\n",
       "[303814 rows x 16 columns]"
      ],
      "text/html": "<div>\n<style scoped>\n    .dataframe tbody tr th:only-of-type {\n        vertical-align: middle;\n    }\n\n    .dataframe tbody tr th {\n        vertical-align: top;\n    }\n\n    .dataframe thead th {\n        text-align: right;\n    }\n</style>\n<table border=\"1\" class=\"dataframe\">\n  <thead>\n    <tr style=\"text-align: right;\">\n      <th></th>\n      <th>CharID1</th>\n      <th>CharID2</th>\n      <th>MovieID</th>\n      <th>Conv_ID</th>\n      <th>Line_ID</th>\n      <th>Title</th>\n      <th>Year</th>\n      <th>IMDB_Rating</th>\n      <th>Votes</th>\n      <th>Genres</th>\n      <th>Character_ID</th>\n      <th>Character</th>\n      <th>Gender</th>\n      <th>Position_in_Credits</th>\n      <th>Length</th>\n      <th>Line</th>\n    </tr>\n  </thead>\n  <tbody>\n    <tr>\n      <th>0</th>\n      <td>u0</td>\n      <td>u2</td>\n      <td>m0</td>\n      <td>c0</td>\n      <td>L194</td>\n      <td>10 things i hate about you</td>\n      <td>1999</td>\n      <td>6.9</td>\n      <td>62847.0</td>\n      <td>['comedy' 'romance']</td>\n      <td>u0</td>\n      <td>BIANCA</td>\n      <td>f</td>\n      <td>4</td>\n      <td>22</td>\n      <td>Can we make this quick?  Roxanne Korrine and A...</td>\n    </tr>\n    <tr>\n      <th>1</th>\n      <td>u0</td>\n      <td>u2</td>\n      <td>m0</td>\n      <td>c0</td>\n      <td>L195</td>\n      <td>10 things i hate about you</td>\n      <td>1999</td>\n      <td>6.9</td>\n      <td>62847.0</td>\n      <td>['comedy' 'romance']</td>\n      <td>u2</td>\n      <td>CAMERON</td>\n      <td>m</td>\n      <td>3</td>\n      <td>12</td>\n      <td>Well I thought we'd start with pronunciation i...</td>\n    </tr>\n    <tr>\n      <th>2</th>\n      <td>u0</td>\n      <td>u2</td>\n      <td>m0</td>\n      <td>c0</td>\n      <td>L196</td>\n      <td>10 things i hate about you</td>\n      <td>1999</td>\n      <td>6.9</td>\n      <td>62847.0</td>\n      <td>['comedy' 'romance']</td>\n      <td>u0</td>\n      <td>BIANCA</td>\n      <td>f</td>\n      <td>4</td>\n      <td>9</td>\n      <td>Not the hacking and gagging and spitting part....</td>\n    </tr>\n    <tr>\n      <th>3</th>\n      <td>u0</td>\n      <td>u2</td>\n      <td>m0</td>\n      <td>c0</td>\n      <td>L197</td>\n      <td>10 things i hate about you</td>\n      <td>1999</td>\n      <td>6.9</td>\n      <td>62847.0</td>\n      <td>['comedy' 'romance']</td>\n      <td>u2</td>\n      <td>CAMERON</td>\n      <td>m</td>\n      <td>3</td>\n      <td>12</td>\n      <td>Okay... then how 'bout we try out some French ...</td>\n    </tr>\n    <tr>\n      <th>4</th>\n      <td>u0</td>\n      <td>u2</td>\n      <td>m0</td>\n      <td>c1</td>\n      <td>L198</td>\n      <td>10 things i hate about you</td>\n      <td>1999</td>\n      <td>6.9</td>\n      <td>62847.0</td>\n      <td>['comedy' 'romance']</td>\n      <td>u0</td>\n      <td>BIANCA</td>\n      <td>f</td>\n      <td>4</td>\n      <td>11</td>\n      <td>You're asking me out.  That's so cute. What's ...</td>\n    </tr>\n    <tr>\n      <th>...</th>\n      <td>...</td>\n      <td>...</td>\n      <td>...</td>\n      <td>...</td>\n      <td>...</td>\n      <td>...</td>\n      <td>...</td>\n      <td>...</td>\n      <td>...</td>\n      <td>...</td>\n      <td>...</td>\n      <td>...</td>\n      <td>...</td>\n      <td>...</td>\n      <td>...</td>\n      <td>...</td>\n    </tr>\n    <tr>\n      <th>303809</th>\n      <td>u9030</td>\n      <td>u9034</td>\n      <td>m616</td>\n      <td>c83095</td>\n      <td>L666371</td>\n      <td>zulu dawn</td>\n      <td>1979</td>\n      <td>6.4</td>\n      <td>1911.0</td>\n      <td>['action' 'adventure' 'drama' 'history' 'war']</td>\n      <td>u9030</td>\n      <td>DURNFORD</td>\n      <td>?</td>\n      <td>?</td>\n      <td>12</td>\n      <td>Lord Chelmsford seems to want me to stay back ...</td>\n    </tr>\n    <tr>\n      <th>303810</th>\n      <td>u9030</td>\n      <td>u9034</td>\n      <td>m616</td>\n      <td>c83095</td>\n      <td>L666372</td>\n      <td>zulu dawn</td>\n      <td>1979</td>\n      <td>6.4</td>\n      <td>1911.0</td>\n      <td>['action' 'adventure' 'drama' 'history' 'war']</td>\n      <td>u9034</td>\n      <td>VEREKER</td>\n      <td>?</td>\n      <td>?</td>\n      <td>23</td>\n      <td>I think Chelmsford wants a good man on the bor...</td>\n    </tr>\n    <tr>\n      <th>303811</th>\n      <td>u9030</td>\n      <td>u9034</td>\n      <td>m616</td>\n      <td>c83096</td>\n      <td>L666520</td>\n      <td>zulu dawn</td>\n      <td>1979</td>\n      <td>6.4</td>\n      <td>1911.0</td>\n      <td>['action' 'adventure' 'drama' 'history' 'war']</td>\n      <td>u9034</td>\n      <td>VEREKER</td>\n      <td>?</td>\n      <td>?</td>\n      <td>13</td>\n      <td>Well I assure you Sir I have no desire to crea...</td>\n    </tr>\n    <tr>\n      <th>303812</th>\n      <td>u9030</td>\n      <td>u9034</td>\n      <td>m616</td>\n      <td>c83096</td>\n      <td>L666521</td>\n      <td>zulu dawn</td>\n      <td>1979</td>\n      <td>6.4</td>\n      <td>1911.0</td>\n      <td>['action' 'adventure' 'drama' 'history' 'war']</td>\n      <td>u9030</td>\n      <td>DURNFORD</td>\n      <td>?</td>\n      <td>?</td>\n      <td>21</td>\n      <td>And I assure you you do not In fact I'd be obl...</td>\n    </tr>\n    <tr>\n      <th>303813</th>\n      <td>u9030</td>\n      <td>u9034</td>\n      <td>m616</td>\n      <td>c83096</td>\n      <td>L666522</td>\n      <td>zulu dawn</td>\n      <td>1979</td>\n      <td>6.4</td>\n      <td>1911.0</td>\n      <td>['action' 'adventure' 'drama' 'history' 'war']</td>\n      <td>u9034</td>\n      <td>VEREKER</td>\n      <td>?</td>\n      <td>?</td>\n      <td>18</td>\n      <td>So far only their scouts. But we have had repo...</td>\n    </tr>\n  </tbody>\n</table>\n<p>303814 rows × 16 columns</p>\n</div>"
     },
     "metadata": {},
     "execution_count": 153
    }
   ],
   "source": [
    "conv_merged = conv_df.merge(lines_df, on='Line_ID', how='inner')\n",
    "conv_merged = conv_merged[['CharID1', 'CharID2', 'MovieID', 'Conv_ID', 'Line_ID', 'Title', 'Year', 'IMDB_Rating', 'Votes', 'Genres', 'Character_ID', 'Character' ,'Gender', 'Position_in_Credits', 'Length', \"Line\"]] \n",
    "conv_merged"
   ]
  },
  {
   "cell_type": "code",
   "execution_count": 201,
   "metadata": {},
   "outputs": [],
   "source": [
    "f_lengths = conv_merged[conv_merged.Gender=='f'].groupby(['Conv_ID', 'MovieID', 'Title', 'Year', 'IMDB_Rating', 'Votes', 'Genres'], as_index=False).sum()\n",
    "m_lengths = conv_merged[conv_merged.Gender=='m'].groupby(['Conv_ID', 'MovieID', 'Title', 'Year', 'IMDB_Rating', 'Votes', 'Genres'],as_index=False).sum()\n",
    "\n",
    "# f_lengths = f_lengths[['MovieID', 'Conv_ID', 'Line_ID', 'Title', 'Year', 'IMDB_Rating', 'Votes', 'Genres', 'Character_ID', 'Character' ,'Gender', 'Position_in_Credits', 'Length', \"Line\"]]\n",
    "f_lengths = f_lengths.rename(columns={'Length':'Length_Female'})\n",
    "# m_lengths = m_lengths[['MovieID', 'Conv_ID', 'Line_ID', 'Title', 'Year', 'IMDB_Rating', 'Votes', 'Genres', 'Character_ID', 'Character' ,'Gender', 'Position_in_Credits', 'Length', \"Line\"]]\n",
    "m_lengths = m_lengths.rename(columns={'Length':'Length_Male'})\n",
    "\n",
    "convo_lengths = f_lengths.merge(m_lengths, on=['Conv_ID', 'MovieID', 'Title', 'Year', 'IMDB_Rating', 'Votes', 'Genres'])\n",
    "convo_lengths['Total_Length'] = convo_lengths.Length_Female + convo_lengths.Length_Male\n",
    "convo_lengths['Percent_Female'] = convo_lengths.Length_Female / convo_lengths.Total_Length\n",
    "convo_lengths['Percent_Male'] = convo_lengths.Length_Male / convo_lengths.Total_Length"
   ]
  },
  {
   "cell_type": "code",
   "execution_count": 202,
   "metadata": {},
   "outputs": [
    {
     "output_type": "execute_result",
     "data": {
      "text/plain": [
       "      Conv_ID MovieID                       Title  Year  IMDB_Rating    Votes  \\\n",
       "0          c0      m0  10 things i hate about you  1999          6.9  62847.0   \n",
       "1          c1      m0  10 things i hate about you  1999          6.9  62847.0   \n",
       "2         c10      m0  10 things i hate about you  1999          6.9  62847.0   \n",
       "3      c10000     m72                 ghost world  2001          7.7  43550.0   \n",
       "4      c10001     m72                 ghost world  2001          7.7  43550.0   \n",
       "...       ...     ...                         ...   ...          ...      ...   \n",
       "25484   c9978     m72                 ghost world  2001          7.7  43550.0   \n",
       "25485   c9979     m72                 ghost world  2001          7.7  43550.0   \n",
       "25486   c9980     m72                 ghost world  2001          7.7  43550.0   \n",
       "25487   c9981     m72                 ghost world  2001          7.7  43550.0   \n",
       "25488   c9982     m72                 ghost world  2001          7.7  43550.0   \n",
       "\n",
       "                     Genres  Length_Female  Length_Male  Total_Length  \\\n",
       "0      ['comedy' 'romance']             31           24            55   \n",
       "1      ['comedy' 'romance']             11            2            13   \n",
       "2      ['comedy' 'romance']             17           10            27   \n",
       "3        ['comedy' 'drama']             33           23            56   \n",
       "4        ['comedy' 'drama']              2           10            12   \n",
       "...                     ...            ...          ...           ...   \n",
       "25484    ['comedy' 'drama']             17           48            65   \n",
       "25485    ['comedy' 'drama']              1            3             4   \n",
       "25486    ['comedy' 'drama']             13           78            91   \n",
       "25487    ['comedy' 'drama']             43           64           107   \n",
       "25488    ['comedy' 'drama']             12            4            16   \n",
       "\n",
       "       Percent_Female  Percent_Male  \n",
       "0            0.563636      0.436364  \n",
       "1            0.846154      0.153846  \n",
       "2            0.629630      0.370370  \n",
       "3            0.589286      0.410714  \n",
       "4            0.166667      0.833333  \n",
       "...               ...           ...  \n",
       "25484        0.261538      0.738462  \n",
       "25485        0.250000      0.750000  \n",
       "25486        0.142857      0.857143  \n",
       "25487        0.401869      0.598131  \n",
       "25488        0.750000      0.250000  \n",
       "\n",
       "[25489 rows x 12 columns]"
      ],
      "text/html": "<div>\n<style scoped>\n    .dataframe tbody tr th:only-of-type {\n        vertical-align: middle;\n    }\n\n    .dataframe tbody tr th {\n        vertical-align: top;\n    }\n\n    .dataframe thead th {\n        text-align: right;\n    }\n</style>\n<table border=\"1\" class=\"dataframe\">\n  <thead>\n    <tr style=\"text-align: right;\">\n      <th></th>\n      <th>Conv_ID</th>\n      <th>MovieID</th>\n      <th>Title</th>\n      <th>Year</th>\n      <th>IMDB_Rating</th>\n      <th>Votes</th>\n      <th>Genres</th>\n      <th>Length_Female</th>\n      <th>Length_Male</th>\n      <th>Total_Length</th>\n      <th>Percent_Female</th>\n      <th>Percent_Male</th>\n    </tr>\n  </thead>\n  <tbody>\n    <tr>\n      <th>0</th>\n      <td>c0</td>\n      <td>m0</td>\n      <td>10 things i hate about you</td>\n      <td>1999</td>\n      <td>6.9</td>\n      <td>62847.0</td>\n      <td>['comedy' 'romance']</td>\n      <td>31</td>\n      <td>24</td>\n      <td>55</td>\n      <td>0.563636</td>\n      <td>0.436364</td>\n    </tr>\n    <tr>\n      <th>1</th>\n      <td>c1</td>\n      <td>m0</td>\n      <td>10 things i hate about you</td>\n      <td>1999</td>\n      <td>6.9</td>\n      <td>62847.0</td>\n      <td>['comedy' 'romance']</td>\n      <td>11</td>\n      <td>2</td>\n      <td>13</td>\n      <td>0.846154</td>\n      <td>0.153846</td>\n    </tr>\n    <tr>\n      <th>2</th>\n      <td>c10</td>\n      <td>m0</td>\n      <td>10 things i hate about you</td>\n      <td>1999</td>\n      <td>6.9</td>\n      <td>62847.0</td>\n      <td>['comedy' 'romance']</td>\n      <td>17</td>\n      <td>10</td>\n      <td>27</td>\n      <td>0.629630</td>\n      <td>0.370370</td>\n    </tr>\n    <tr>\n      <th>3</th>\n      <td>c10000</td>\n      <td>m72</td>\n      <td>ghost world</td>\n      <td>2001</td>\n      <td>7.7</td>\n      <td>43550.0</td>\n      <td>['comedy' 'drama']</td>\n      <td>33</td>\n      <td>23</td>\n      <td>56</td>\n      <td>0.589286</td>\n      <td>0.410714</td>\n    </tr>\n    <tr>\n      <th>4</th>\n      <td>c10001</td>\n      <td>m72</td>\n      <td>ghost world</td>\n      <td>2001</td>\n      <td>7.7</td>\n      <td>43550.0</td>\n      <td>['comedy' 'drama']</td>\n      <td>2</td>\n      <td>10</td>\n      <td>12</td>\n      <td>0.166667</td>\n      <td>0.833333</td>\n    </tr>\n    <tr>\n      <th>...</th>\n      <td>...</td>\n      <td>...</td>\n      <td>...</td>\n      <td>...</td>\n      <td>...</td>\n      <td>...</td>\n      <td>...</td>\n      <td>...</td>\n      <td>...</td>\n      <td>...</td>\n      <td>...</td>\n      <td>...</td>\n    </tr>\n    <tr>\n      <th>25484</th>\n      <td>c9978</td>\n      <td>m72</td>\n      <td>ghost world</td>\n      <td>2001</td>\n      <td>7.7</td>\n      <td>43550.0</td>\n      <td>['comedy' 'drama']</td>\n      <td>17</td>\n      <td>48</td>\n      <td>65</td>\n      <td>0.261538</td>\n      <td>0.738462</td>\n    </tr>\n    <tr>\n      <th>25485</th>\n      <td>c9979</td>\n      <td>m72</td>\n      <td>ghost world</td>\n      <td>2001</td>\n      <td>7.7</td>\n      <td>43550.0</td>\n      <td>['comedy' 'drama']</td>\n      <td>1</td>\n      <td>3</td>\n      <td>4</td>\n      <td>0.250000</td>\n      <td>0.750000</td>\n    </tr>\n    <tr>\n      <th>25486</th>\n      <td>c9980</td>\n      <td>m72</td>\n      <td>ghost world</td>\n      <td>2001</td>\n      <td>7.7</td>\n      <td>43550.0</td>\n      <td>['comedy' 'drama']</td>\n      <td>13</td>\n      <td>78</td>\n      <td>91</td>\n      <td>0.142857</td>\n      <td>0.857143</td>\n    </tr>\n    <tr>\n      <th>25487</th>\n      <td>c9981</td>\n      <td>m72</td>\n      <td>ghost world</td>\n      <td>2001</td>\n      <td>7.7</td>\n      <td>43550.0</td>\n      <td>['comedy' 'drama']</td>\n      <td>43</td>\n      <td>64</td>\n      <td>107</td>\n      <td>0.401869</td>\n      <td>0.598131</td>\n    </tr>\n    <tr>\n      <th>25488</th>\n      <td>c9982</td>\n      <td>m72</td>\n      <td>ghost world</td>\n      <td>2001</td>\n      <td>7.7</td>\n      <td>43550.0</td>\n      <td>['comedy' 'drama']</td>\n      <td>12</td>\n      <td>4</td>\n      <td>16</td>\n      <td>0.750000</td>\n      <td>0.250000</td>\n    </tr>\n  </tbody>\n</table>\n<p>25489 rows × 12 columns</p>\n</div>"
     },
     "metadata": {},
     "execution_count": 202
    }
   ],
   "source": [
    "convo_lengths"
   ]
  },
  {
   "cell_type": "code",
   "execution_count": 203,
   "metadata": {},
   "outputs": [],
   "source": [
    "convo_lengths.to_csv('data_cleaned_merged/conversation_gender_splits.csv')"
   ]
  },
  {
   "cell_type": "code",
   "execution_count": null,
   "metadata": {},
   "outputs": [],
   "source": []
  }
 ]
}