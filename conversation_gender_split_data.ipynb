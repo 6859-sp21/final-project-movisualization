{
 "metadata": {
  "language_info": {
   "codemirror_mode": {
    "name": "ipython",
    "version": 3
   },
   "file_extension": ".py",
   "mimetype": "text/x-python",
   "name": "python",
   "nbconvert_exporter": "python",
   "pygments_lexer": "ipython3",
   "version": "2.7.16"
  },
  "orig_nbformat": 2,
  "kernelspec": {
   "name": "python2716jvsc74a57bd0767d51c1340bd893661ea55ea3124f6de3c7a262a8b4abca0554b478b1e2ff90",
   "display_name": "Python 2.7.16 64-bit"
  },
  "metadata": {
   "interpreter": {
    "hash": "767d51c1340bd893661ea55ea3124f6de3c7a262a8b4abca0554b478b1e2ff90"
   }
  }
 },
 "nbformat": 4,
 "nbformat_minor": 2,
 "cells": [
  {
   "cell_type": "code",
   "execution_count": 1,
   "metadata": {},
   "outputs": [],
   "source": [
    "import pandas as pd "
   ]
  },
  {
   "cell_type": "code",
   "execution_count": 42,
   "metadata": {},
   "outputs": [
    {
     "output_type": "execute_result",
     "data": {
      "text/html": "<div>\n<style scoped>\n    .dataframe tbody tr th:only-of-type {\n        vertical-align: middle;\n    }\n\n    .dataframe tbody tr th {\n        vertical-align: top;\n    }\n\n    .dataframe thead th {\n        text-align: right;\n    }\n</style>\n<table border=\"1\" class=\"dataframe\">\n  <thead>\n    <tr style=\"text-align: right;\">\n      <th></th>\n      <th>Conv_ID</th>\n      <th>Title</th>\n      <th>Convo_Genders</th>\n    </tr>\n  </thead>\n  <tbody>\n    <tr>\n      <th>0</th>\n      <td>c0</td>\n      <td>10 Things I Hate About You</td>\n      <td>mf</td>\n    </tr>\n    <tr>\n      <th>4335</th>\n      <td>c139</td>\n      <td>10 Things I Hate About You</td>\n      <td>mf</td>\n    </tr>\n    <tr>\n      <th>26668</th>\n      <td>c34</td>\n      <td>10 Things I Hate About You</td>\n      <td>mf</td>\n    </tr>\n    <tr>\n      <th>10668</th>\n      <td>c196</td>\n      <td>10 Things I Hate About You</td>\n      <td>mm</td>\n    </tr>\n    <tr>\n      <th>4224</th>\n      <td>c138</td>\n      <td>10 Things I Hate About You</td>\n      <td>mf</td>\n    </tr>\n  </tbody>\n</table>\n</div>",
      "text/plain": [
       "      Conv_ID                       Title Convo_Genders\n",
       "0          c0  10 Things I Hate About You            mf\n",
       "4335     c139  10 Things I Hate About You            mf\n",
       "26668     c34  10 Things I Hate About You            mf\n",
       "10668    c196  10 Things I Hate About You            mm\n",
       "4224     c138  10 Things I Hate About You            mf"
      ]
     },
     "metadata": {},
     "execution_count": 42
    }
   ],
   "source": [
    "path = 'data_cleaned_merged/movie_convo_genders.csv'\n",
    "convo_genders_df = pd.read_csv(path)\n",
    "convo_genders_df = convo_genders_df[['Conv_ID', 'Title', 'Convo_Genders']]\n",
    "convo_genders_df.sort_values(by='Title').head()"
   ]
  },
  {
   "cell_type": "code",
   "execution_count": 71,
   "metadata": {},
   "outputs": [],
   "source": [
    "df = convo_genders_df.groupby(['Title','Convo_Genders'], as_index=False).count()\n",
    "df = df.pivot(columns='Convo_Genders', index='Title', values='Conv_ID').reset_index()\n",
    "df = df.fillna('0')"
   ]
  },
  {
   "cell_type": "code",
   "execution_count": 72,
   "metadata": {},
   "outputs": [
    {
     "output_type": "execute_result",
     "data": {
      "text/html": "<div>\n<style scoped>\n    .dataframe tbody tr th:only-of-type {\n        vertical-align: middle;\n    }\n\n    .dataframe tbody tr th {\n        vertical-align: top;\n    }\n\n    .dataframe thead th {\n        text-align: right;\n    }\n</style>\n<table border=\"1\" class=\"dataframe\">\n  <thead>\n    <tr style=\"text-align: right;\">\n      <th>Convo_Genders</th>\n      <th>Title</th>\n      <th>ff</th>\n      <th>mf</th>\n      <th>mm</th>\n    </tr>\n  </thead>\n  <tbody>\n    <tr>\n      <th>0</th>\n      <td>10 Things I Hate About You</td>\n      <td>30</td>\n      <td>102</td>\n      <td>69</td>\n    </tr>\n    <tr>\n      <th>1</th>\n      <td>1492: Conquest Of Paradise</td>\n      <td>0</td>\n      <td>0</td>\n      <td>93</td>\n    </tr>\n    <tr>\n      <th>2</th>\n      <td>15 Minutes</td>\n      <td>0</td>\n      <td>30</td>\n      <td>148</td>\n    </tr>\n    <tr>\n      <th>3</th>\n      <td>2001: A Space Odyssey</td>\n      <td>0</td>\n      <td>0</td>\n      <td>73</td>\n    </tr>\n    <tr>\n      <th>4</th>\n      <td>48 Hrs.</td>\n      <td>0</td>\n      <td>32</td>\n      <td>149</td>\n    </tr>\n  </tbody>\n</table>\n</div>",
      "text/plain": [
       "Convo_Genders                       Title  ff   mf   mm\n",
       "0              10 Things I Hate About You  30  102   69\n",
       "1              1492: Conquest Of Paradise   0    0   93\n",
       "2                              15 Minutes   0   30  148\n",
       "3                   2001: A Space Odyssey   0    0   73\n",
       "4                                 48 Hrs.   0   32  149"
      ]
     },
     "metadata": {},
     "execution_count": 72
    }
   ],
   "source": [
    "df.head()"
   ]
  },
  {
   "cell_type": "code",
   "execution_count": 83,
   "metadata": {},
   "outputs": [],
   "source": [
    "df = df.astype({'ff': 'int32','mf': 'int32','mm': 'int32'})\n",
    "df['Total'] = df['ff'] + df['mf'] + df['mm']\n",
    "df['ff_percent'] = df['ff']/df['Total']\n",
    "df['mf_percent'] = df['mf']/df['Total']\n",
    "df['mm_percent'] = df['mm']/df['Total']"
   ]
  },
  {
   "cell_type": "code",
   "execution_count": 85,
   "metadata": {},
   "outputs": [],
   "source": [
    "df.to_csv('data_cleaned_merged/conversation_gender_splits_percents.csv')"
   ]
  },
  {
   "cell_type": "code",
   "execution_count": null,
   "metadata": {},
   "outputs": [],
   "source": []
  }
 ]
}